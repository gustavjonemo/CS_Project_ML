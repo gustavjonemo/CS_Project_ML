{
 "cells": [
  {
   "cell_type": "code",
   "execution_count": 2,
   "metadata": {},
   "outputs": [],
   "source": [
    "#---------- Initialization ----------\n",
    "import os\n",
    "import datetime\n",
    "import xmltodict\n",
    "\n",
    "import IPython\n",
    "import IPython.display\n",
    "import matplotlib as mpl\n",
    "import matplotlib.pyplot as plt\n",
    "import numpy as np\n",
    "import pandas as pd\n",
    "import seaborn as sns\n",
    "import tensorflow as tf\n",
    "\n",
    "mpl.rcParams['figure.figsize'] = (8, 6)\n",
    "mpl.rcParams['axes.grid'] = False"
   ]
  },
  {
   "cell_type": "code",
   "execution_count": null,
   "metadata": {},
   "outputs": [],
   "source": [
    "#---------- Read from HealthKit exported XML file and insert into Pandas data frame ----------\n",
    "input_path = 'C:/Users/gusta/Local_Docs/CS_Project_EDAN70/exportAC67/apple_health_export/export.xml'\n",
    "with open(input_path, 'r') as xml_file:\n",
    "    input_data = xmltodict.parse(xml_file.read())\n",
    "    \n",
    "records_list = input_data['HealthData']['Record']\n",
    "df = pd.DataFrame(records_list)"
   ]
  },
  {
   "cell_type": "code",
   "execution_count": 3,
   "metadata": {},
   "outputs": [
    {
     "name": "stdout",
     "output_type": "stream",
     "text": [
      "C:/Users/gusta/Local_Docs/CS_Project_EDAN70/Pancreas/BA_AppleWatch/apple_health_export\\export.xml\n",
      "C:/Users/gusta/Local_Docs/CS_Project_EDAN70/Pancreas/BA_AppleWatch/apple_health_export\\test_export.xml\n"
     ]
    }
   ],
   "source": [
    "#---------- Read multiple ----------\n",
    "path = 'C:/Users/gusta/Local_Docs/CS_Project_EDAN70/Pancreas/BA_AppleWatch/apple_health_export'\n",
    "patientRecords = []\n",
    "\n",
    "#for root, dirs, files in os.walk(path):\n",
    "#    for filename in files:\n",
    "#        if filename.endswith('.xml'):\n",
    "#            fullname = os.path.join(path, filename)\n",
    "#            print(fullname)\n",
    "#            dfList.append(pd.read_xml(fullname))\n",
    "            \n",
    "for filename in os.listdir(path):\n",
    "    if filename.endswith('export.xml'):\n",
    "        fullname = os.path.join(path, filename)\n",
    "        print(fullname)\n",
    "        #dfList.append(pd.read_xml(fullname))\n",
    "        patientRecords.append(xmltodict.parse(open(fullname, \"rb\")))"
   ]
  },
  {
   "cell_type": "code",
   "execution_count": 4,
   "metadata": {},
   "outputs": [],
   "source": [
    "def toSeries(records, typedef, column, merge=\"mean\", gran=\"D\"):\n",
    "    heartRateSeries = list(filter(lambda t: t[\"@type\"] == typedef, records))\n",
    "    d = pd.DataFrame(list(map(lambda d: (d[\"@startDate\"], float(d[\"@value\"])), heartRateSeries)), columns=[\"timestamp\", column])\n",
    "    d[\"timestamp\"] = pd.to_datetime(d[\"timestamp\"], infer_datetime_format=True)\n",
    "    d.set_index(pd.DatetimeIndex(d[\"timestamp\"]))\n",
    "    print(d.shape)\n",
    "\n",
    "    if merge == \"sum\":\n",
    "        rs = d.resample(gran, on=\"timestamp\").sum()\n",
    "    else:        \n",
    "        rs = d.resample(gran, on=\"timestamp\").mean()\n",
    "    return rs\n",
    "\n",
    "\n",
    "def mergeByTimestamp(dfs):\n",
    "    if len(dfs) == 0:\n",
    "        raise ValueError(\"Empty!\")\n",
    "        \n",
    "    if len(dfs) == 1:\n",
    "        return dfs[0]\n",
    "    \n",
    "    if len(dfs) >= 2:\n",
    "        current = dfs[0]\n",
    "        for i in range(1,len(dfs)):\n",
    "            current = pd.merge_ordered(current, dfs[i], on=\"timestamp\")\n",
    "\n",
    "        return current"
   ]
  },
  {
   "cell_type": "code",
   "execution_count": 5,
   "metadata": {},
   "outputs": [
    {
     "name": "stdout",
     "output_type": "stream",
     "text": [
      "(4172, 2)\n",
      "(104, 2)\n",
      "(34537, 2)\n",
      "(12579, 2)\n",
      "(0, 2)\n"
     ]
    },
    {
     "ename": "AttributeError",
     "evalue": "'Index' object has no attribute '_with_freq'",
     "output_type": "error",
     "traceback": [
      "\u001b[1;31m---------------------------------------------------------------------------\u001b[0m",
      "\u001b[1;31mAttributeError\u001b[0m                            Traceback (most recent call last)",
      "\u001b[1;32m~\\AppData\\Local\\Temp/ipykernel_21484/609647648.py\u001b[0m in \u001b[0;36m<module>\u001b[1;34m\u001b[0m\n\u001b[0;32m      7\u001b[0m \u001b[1;33m\u001b[0m\u001b[0m\n\u001b[0;32m      8\u001b[0m     \u001b[0mstepCount\u001b[0m \u001b[1;33m=\u001b[0m \u001b[0mtoSeries\u001b[0m\u001b[1;33m(\u001b[0m\u001b[0mrecord\u001b[0m\u001b[1;33m,\u001b[0m \u001b[1;34m\"HKQuantityTypeIdentifierStepCount\"\u001b[0m\u001b[1;33m,\u001b[0m \u001b[1;34m\"steps\"\u001b[0m\u001b[1;33m,\u001b[0m \u001b[0mmerge\u001b[0m\u001b[1;33m=\u001b[0m\u001b[1;34m\"sum\"\u001b[0m\u001b[1;33m,\u001b[0m \u001b[0mgran\u001b[0m\u001b[1;33m=\u001b[0m\u001b[0mgran\u001b[0m\u001b[1;33m)\u001b[0m\u001b[1;33m\u001b[0m\u001b[1;33m\u001b[0m\u001b[0m\n\u001b[1;32m----> 9\u001b[1;33m     \u001b[0mflightsClimbed\u001b[0m \u001b[1;33m=\u001b[0m \u001b[0mtoSeries\u001b[0m\u001b[1;33m(\u001b[0m\u001b[0mrecord\u001b[0m\u001b[1;33m,\u001b[0m \u001b[1;34m\"HKQuantityTypeIdentifierFlightsClimbed\"\u001b[0m\u001b[1;33m,\u001b[0m \u001b[1;34m\"climbed\"\u001b[0m\u001b[1;33m,\u001b[0m \u001b[0mmerge\u001b[0m\u001b[1;33m=\u001b[0m\u001b[1;34m\"sum\"\u001b[0m\u001b[1;33m,\u001b[0m \u001b[0mgran\u001b[0m\u001b[1;33m=\u001b[0m\u001b[0mgran\u001b[0m\u001b[1;33m)\u001b[0m\u001b[1;33m\u001b[0m\u001b[1;33m\u001b[0m\u001b[0m\n\u001b[0m\u001b[0;32m     10\u001b[0m     \u001b[0mheartRate\u001b[0m \u001b[1;33m=\u001b[0m \u001b[0mtoSeries\u001b[0m\u001b[1;33m(\u001b[0m\u001b[0mrecord\u001b[0m\u001b[1;33m,\u001b[0m \u001b[1;34m\"HKQuantityTypeIdentifierHeartRate\"\u001b[0m\u001b[1;33m,\u001b[0m \u001b[1;34m\"heartRate\"\u001b[0m\u001b[1;33m,\u001b[0m \u001b[0mgran\u001b[0m\u001b[1;33m=\u001b[0m\u001b[0mgran\u001b[0m\u001b[1;33m)\u001b[0m\u001b[1;33m\u001b[0m\u001b[1;33m\u001b[0m\u001b[0m\n\u001b[0;32m     11\u001b[0m     \u001b[1;31m#energyBurned = toSeries(records, \"HKQuantityTypeIdentifierActiveEnergyBurned\", \"activeEnergyBurned\", gran=gran)\u001b[0m\u001b[1;33m\u001b[0m\u001b[1;33m\u001b[0m\u001b[0m\n",
      "\u001b[1;32m~\\AppData\\Local\\Temp/ipykernel_21484/1852874833.py\u001b[0m in \u001b[0;36mtoSeries\u001b[1;34m(records, typedef, column, merge, gran)\u001b[0m\n\u001b[0;32m      7\u001b[0m \u001b[1;33m\u001b[0m\u001b[0m\n\u001b[0;32m      8\u001b[0m     \u001b[1;32mif\u001b[0m \u001b[0mmerge\u001b[0m \u001b[1;33m==\u001b[0m \u001b[1;34m\"sum\"\u001b[0m\u001b[1;33m:\u001b[0m\u001b[1;33m\u001b[0m\u001b[1;33m\u001b[0m\u001b[0m\n\u001b[1;32m----> 9\u001b[1;33m         \u001b[0mrs\u001b[0m \u001b[1;33m=\u001b[0m \u001b[0md\u001b[0m\u001b[1;33m.\u001b[0m\u001b[0mresample\u001b[0m\u001b[1;33m(\u001b[0m\u001b[0mgran\u001b[0m\u001b[1;33m,\u001b[0m \u001b[0mon\u001b[0m\u001b[1;33m=\u001b[0m\u001b[1;34m\"timestamp\"\u001b[0m\u001b[1;33m)\u001b[0m\u001b[1;33m.\u001b[0m\u001b[0msum\u001b[0m\u001b[1;33m(\u001b[0m\u001b[1;33m)\u001b[0m\u001b[1;33m\u001b[0m\u001b[1;33m\u001b[0m\u001b[0m\n\u001b[0m\u001b[0;32m     10\u001b[0m     \u001b[1;32melse\u001b[0m\u001b[1;33m:\u001b[0m\u001b[1;33m\u001b[0m\u001b[1;33m\u001b[0m\u001b[0m\n\u001b[0;32m     11\u001b[0m         \u001b[0mrs\u001b[0m \u001b[1;33m=\u001b[0m \u001b[0md\u001b[0m\u001b[1;33m.\u001b[0m\u001b[0mresample\u001b[0m\u001b[1;33m(\u001b[0m\u001b[0mgran\u001b[0m\u001b[1;33m,\u001b[0m \u001b[0mon\u001b[0m\u001b[1;33m=\u001b[0m\u001b[1;34m\"timestamp\"\u001b[0m\u001b[1;33m)\u001b[0m\u001b[1;33m.\u001b[0m\u001b[0mmean\u001b[0m\u001b[1;33m(\u001b[0m\u001b[1;33m)\u001b[0m\u001b[1;33m\u001b[0m\u001b[1;33m\u001b[0m\u001b[0m\n",
      "\u001b[1;32m~\\anaconda3\\lib\\site-packages\\pandas\\core\\resample.py\u001b[0m in \u001b[0;36mf\u001b[1;34m(self, _method, min_count, *args, **kwargs)\u001b[0m\n\u001b[0;32m    985\u001b[0m     \u001b[1;32mdef\u001b[0m \u001b[0mf\u001b[0m\u001b[1;33m(\u001b[0m\u001b[0mself\u001b[0m\u001b[1;33m,\u001b[0m \u001b[0m_method\u001b[0m\u001b[1;33m=\u001b[0m\u001b[0mmethod\u001b[0m\u001b[1;33m,\u001b[0m \u001b[0mmin_count\u001b[0m\u001b[1;33m=\u001b[0m\u001b[1;36m0\u001b[0m\u001b[1;33m,\u001b[0m \u001b[1;33m*\u001b[0m\u001b[0margs\u001b[0m\u001b[1;33m,\u001b[0m \u001b[1;33m**\u001b[0m\u001b[0mkwargs\u001b[0m\u001b[1;33m)\u001b[0m\u001b[1;33m:\u001b[0m\u001b[1;33m\u001b[0m\u001b[1;33m\u001b[0m\u001b[0m\n\u001b[0;32m    986\u001b[0m         \u001b[0mnv\u001b[0m\u001b[1;33m.\u001b[0m\u001b[0mvalidate_resampler_func\u001b[0m\u001b[1;33m(\u001b[0m\u001b[0m_method\u001b[0m\u001b[1;33m,\u001b[0m \u001b[0margs\u001b[0m\u001b[1;33m,\u001b[0m \u001b[0mkwargs\u001b[0m\u001b[1;33m)\u001b[0m\u001b[1;33m\u001b[0m\u001b[1;33m\u001b[0m\u001b[0m\n\u001b[1;32m--> 987\u001b[1;33m         \u001b[1;32mreturn\u001b[0m \u001b[0mself\u001b[0m\u001b[1;33m.\u001b[0m\u001b[0m_downsample\u001b[0m\u001b[1;33m(\u001b[0m\u001b[0m_method\u001b[0m\u001b[1;33m,\u001b[0m \u001b[0mmin_count\u001b[0m\u001b[1;33m=\u001b[0m\u001b[0mmin_count\u001b[0m\u001b[1;33m)\u001b[0m\u001b[1;33m\u001b[0m\u001b[1;33m\u001b[0m\u001b[0m\n\u001b[0m\u001b[0;32m    988\u001b[0m \u001b[1;33m\u001b[0m\u001b[0m\n\u001b[0;32m    989\u001b[0m     \u001b[0mf\u001b[0m\u001b[1;33m.\u001b[0m\u001b[0m__doc__\u001b[0m \u001b[1;33m=\u001b[0m \u001b[0mgetattr\u001b[0m\u001b[1;33m(\u001b[0m\u001b[0mGroupBy\u001b[0m\u001b[1;33m,\u001b[0m \u001b[0mmethod\u001b[0m\u001b[1;33m)\u001b[0m\u001b[1;33m.\u001b[0m\u001b[0m__doc__\u001b[0m\u001b[1;33m\u001b[0m\u001b[1;33m\u001b[0m\u001b[0m\n",
      "\u001b[1;32m~\\anaconda3\\lib\\site-packages\\pandas\\core\\resample.py\u001b[0m in \u001b[0;36m_downsample\u001b[1;34m(self, how, **kwargs)\u001b[0m\n\u001b[0;32m   1129\u001b[0m             \u001b[1;31m# reset to the new freq\u001b[0m\u001b[1;33m\u001b[0m\u001b[1;33m\u001b[0m\u001b[0m\n\u001b[0;32m   1130\u001b[0m             \u001b[0mobj\u001b[0m \u001b[1;33m=\u001b[0m \u001b[0mobj\u001b[0m\u001b[1;33m.\u001b[0m\u001b[0mcopy\u001b[0m\u001b[1;33m(\u001b[0m\u001b[1;33m)\u001b[0m\u001b[1;33m\u001b[0m\u001b[1;33m\u001b[0m\u001b[0m\n\u001b[1;32m-> 1131\u001b[1;33m             \u001b[0mobj\u001b[0m\u001b[1;33m.\u001b[0m\u001b[0mindex\u001b[0m \u001b[1;33m=\u001b[0m \u001b[0mobj\u001b[0m\u001b[1;33m.\u001b[0m\u001b[0mindex\u001b[0m\u001b[1;33m.\u001b[0m\u001b[0m_with_freq\u001b[0m\u001b[1;33m(\u001b[0m\u001b[0mself\u001b[0m\u001b[1;33m.\u001b[0m\u001b[0mfreq\u001b[0m\u001b[1;33m)\u001b[0m\u001b[1;33m\u001b[0m\u001b[1;33m\u001b[0m\u001b[0m\n\u001b[0m\u001b[0;32m   1132\u001b[0m             \u001b[1;32massert\u001b[0m \u001b[0mobj\u001b[0m\u001b[1;33m.\u001b[0m\u001b[0mindex\u001b[0m\u001b[1;33m.\u001b[0m\u001b[0mfreq\u001b[0m \u001b[1;33m==\u001b[0m \u001b[0mself\u001b[0m\u001b[1;33m.\u001b[0m\u001b[0mfreq\u001b[0m\u001b[1;33m,\u001b[0m \u001b[1;33m(\u001b[0m\u001b[0mobj\u001b[0m\u001b[1;33m.\u001b[0m\u001b[0mindex\u001b[0m\u001b[1;33m.\u001b[0m\u001b[0mfreq\u001b[0m\u001b[1;33m,\u001b[0m \u001b[0mself\u001b[0m\u001b[1;33m.\u001b[0m\u001b[0mfreq\u001b[0m\u001b[1;33m)\u001b[0m\u001b[1;33m\u001b[0m\u001b[1;33m\u001b[0m\u001b[0m\n\u001b[0;32m   1133\u001b[0m             \u001b[1;32mreturn\u001b[0m \u001b[0mobj\u001b[0m\u001b[1;33m\u001b[0m\u001b[1;33m\u001b[0m\u001b[0m\n",
      "\u001b[1;31mAttributeError\u001b[0m: 'Index' object has no attribute '_with_freq'"
     ]
    }
   ],
   "source": [
    "#Select relevant records and merge\n",
    "#Skippa felaktiga filer, 'with freg'-error innebär att kolumner saknas. Kan också ta medel från adnra patienter och sätta detta på felaktig patient\n",
    "patientRecordsSelect = []\n",
    "\n",
    "for patient in patientRecords:\n",
    "    record = patient[\"HealthData\"][\"Record\"]\n",
    "    gran = \"60min\" #gran = \"D\"  \n",
    "\n",
    "    stepCount = toSeries(record, \"HKQuantityTypeIdentifierStepCount\", \"steps\", merge=\"sum\", gran=gran)\n",
    "    flightsClimbed = toSeries(record, \"HKQuantityTypeIdentifierFlightsClimbed\", \"climbed\", merge=\"sum\", gran=gran)\n",
    "    heartRate = toSeries(record, \"HKQuantityTypeIdentifierHeartRate\", \"heartRate\", gran=gran)\n",
    "    #energyBurned = toSeries(records, \"HKQuantityTypeIdentifierActiveEnergyBurned\", \"activeEnergyBurned\", gran=gran)\n",
    "\n",
    "    patientRecordsSelect.append(mergeByTimestamp([stepCount, flightsClimbed, heartRate]))"
   ]
  },
  {
   "cell_type": "code",
   "execution_count": 283,
   "metadata": {},
   "outputs": [
    {
     "name": "stdout",
     "output_type": "stream",
     "text": [
      "[0, 7410, 7482, 0]\n",
      "                     timestamp  steps  climbed   heartRate\n",
      "0    2019-12-14 12:00:00+02:00   80.0      1.0   65.545455\n",
      "1    2019-12-14 13:00:00+02:00   18.0      0.0   68.583333\n",
      "2    2019-12-14 14:00:00+02:00  445.0      0.0   80.428571\n",
      "3    2019-12-14 15:00:00+02:00  360.0      0.0   74.200000\n",
      "4    2019-12-14 16:00:00+02:00    0.0      0.0   65.586207\n",
      "...                        ...    ...      ...         ...\n",
      "3196 2020-04-25 16:00:00+02:00  199.0      NaN  102.100000\n",
      "3197 2020-04-25 17:00:00+02:00   76.0      NaN   82.461000\n",
      "3198 2020-04-25 18:00:00+02:00   30.0      NaN   92.600000\n",
      "3199 2020-04-25 19:00:00+02:00   42.0      NaN   82.090909\n",
      "3200 2020-04-25 20:00:00+02:00    NaN      NaN   76.857143\n",
      "\n",
      "[3201 rows x 4 columns]\n"
     ]
    }
   ],
   "source": [
    "#Check for NaN start value and interpolate\n",
    "\n",
    "for patient in patientRecordsSelect:\n",
    "    rowIndexes = []\n",
    "    for column in patient.columns:\n",
    "        rowIndex = 0\n",
    "        while pd.isnull(patient[column][rowIndex]): #ger hela raden, reutrnerar array, Använd iloc \n",
    "            rowIndex = rowIndex + 1\n",
    "        rowIndexes.append(rowIndex)\n",
    "    print(rowIndexes)\n",
    "    newIndexStart =  max(rowIndexes)\n",
    "    patient = patient.drop(patient.index[range(newIndexStart)])\n",
    "    patient = patient.rename(index = lambda x: x - newIndexStart)\n",
    "    print (patient)\n",
    "    \n",
    "    if pd.isnull(patient['steps'][0]):\n",
    "        patient['steps'][0] = patient['steps'].mean()\n",
    "    if pd.isnull(patient['climbed'][0]):\n",
    "        patient['climbed'][0] = patient['climbed'].mean()\n",
    "    if pd.isnull(patient['heartRate'][0]):\n",
    "        patient['heartRate'][0] = patient['heartRate'].mean()\n",
    "    \n",
    "    patient['steps'] = patient['steps'].interpolate()\n",
    "    patient['climbed'] = patient['climbed'].interpolate()\n",
    "    patient['heartRate'] = patient['heartRate'].interpolate()"
   ]
  },
  {
   "cell_type": "code",
   "execution_count": 287,
   "metadata": {},
   "outputs": [
    {
     "data": {
      "text/plain": [
       "[                      timestamp  steps  climbed   heartRate\n",
       " 0     2019-02-05 18:00:00+02:00    NaN      NaN   97.666667\n",
       " 1     2019-02-05 19:00:00+02:00    NaN      NaN         NaN\n",
       " 2     2019-02-05 20:00:00+02:00    NaN      NaN         NaN\n",
       " 3     2019-02-05 21:00:00+02:00    NaN      NaN         NaN\n",
       " 4     2019-02-05 22:00:00+02:00    NaN      NaN         NaN\n",
       " ...                         ...    ...      ...         ...\n",
       " 10678 2020-04-25 16:00:00+02:00  199.0      NaN  102.100000\n",
       " 10679 2020-04-25 17:00:00+02:00   76.0      NaN   82.461000\n",
       " 10680 2020-04-25 18:00:00+02:00   30.0      NaN   92.600000\n",
       " 10681 2020-04-25 19:00:00+02:00   42.0      NaN   82.090909\n",
       " 10682 2020-04-25 20:00:00+02:00    NaN      NaN   76.857143\n",
       " \n",
       " [10683 rows x 4 columns]]"
      ]
     },
     "execution_count": 287,
     "metadata": {},
     "output_type": "execute_result"
    }
   ],
   "source": [
    "patientRecordsSelect"
   ]
  },
  {
   "cell_type": "code",
   "execution_count": null,
   "metadata": {},
   "outputs": [],
   "source": [
    "# --------- Stand Hours Experiment -----------\n",
    "#df2['type'].unique()\n",
    "standHours = df2['appleStandHours'].notnull()\n",
    "notFalse =  standHours != False\n",
    "standHoursFiltered = standHours[notFalse]\n",
    "standHoursFiltered"
   ]
  },
  {
   "cell_type": "code",
   "execution_count": 34,
   "metadata": {},
   "outputs": [],
   "source": [
    "#---------- Save as csv for faster loading, Excel for visualization ----------\n",
    "df.to_csv('dateTimeFormated_data.csv', index=False)\n",
    "#df.to_excel('raw_data.xlsx', index=False) "
   ]
  },
  {
   "cell_type": "code",
   "execution_count": 2,
   "metadata": {},
   "outputs": [],
   "source": [
    "#---------- Read from converted CSV-file and insert into Pandas data frame (faster) ----------\n",
    "df =  pd.read_csv('C:/Users/gusta/Local_Docs/CS_Project_EDAN70/raw_data.csv', dtype = 'object')"
   ]
  },
  {
   "cell_type": "code",
   "execution_count": 30,
   "metadata": {},
   "outputs": [
    {
     "data": {
      "text/plain": [
       "Index(['value', 'HKCharacteristicTypeIdentifierDateOfBirth',\n",
       "       'HKCharacteristicTypeIdentifierBiologicalSex',\n",
       "       'HKCharacteristicTypeIdentifierBloodType',\n",
       "       'HKCharacteristicTypeIdentifierFitzpatrickSkinType', 'type',\n",
       "       'sourceName', 'sourceVersion', 'unit', 'creationDate', 'startDate',\n",
       "       'endDate', 'device', 'MetadataEntry', 'workoutActivityType', 'duration',\n",
       "       'durationUnit', 'totalDistance', 'totalDistanceUnit',\n",
       "       'totalEnergyBurned', 'totalEnergyBurnedUnit', 'WorkoutEvent',\n",
       "       'WorkoutRoute', 'dateComponents', 'activeEnergyBurned',\n",
       "       'activeEnergyBurnedGoal', 'activeEnergyBurnedUnit', 'appleExerciseTime',\n",
       "       'appleExerciseTimeGoal', 'appleStandHours', 'appleStandHoursGoal',\n",
       "       'HeartRateVariabilityMetadataList'],\n",
       "      dtype='object')"
      ]
     },
     "execution_count": 30,
     "metadata": {},
     "output_type": "execute_result"
    }
   ],
   "source": [
    "#---------- Display columns of the Pandas data frame ----------\n",
    "dfList[0].columns\n",
    "\n",
    "#---------- Relevant fields ----------\n",
    "#type - What is being measured\n",
    "#sourceName - Origin device\n",
    "#unit - Unit of measurement, depends on type\n",
    "#creation/start/endDate - Timestamps. Multiple sart/end per creation/metric may occur.\n",
    "#value - Measured value. Int or float depends on type. "
   ]
  },
  {
   "cell_type": "code",
   "execution_count": 178,
   "metadata": {},
   "outputs": [
    {
     "ename": "TypeError",
     "evalue": "unhashable type: 'slice'",
     "output_type": "error",
     "traceback": [
      "\u001b[1;31m---------------------------------------------------------------------------\u001b[0m",
      "\u001b[1;31mTypeError\u001b[0m                                 Traceback (most recent call last)",
      "\u001b[1;32m~\\AppData\\Local\\Temp/ipykernel_3200/670222753.py\u001b[0m in \u001b[0;36m<module>\u001b[1;34m\u001b[0m\n\u001b[0;32m      1\u001b[0m \u001b[1;31m#---------- Show unique values the \"type\" column can represent ----------\u001b[0m\u001b[1;33m\u001b[0m\u001b[1;33m\u001b[0m\u001b[0m\n\u001b[1;32m----> 2\u001b[1;33m \u001b[0mdfList\u001b[0m\u001b[1;33m[\u001b[0m\u001b[1;36m0\u001b[0m\u001b[1;33m]\u001b[0m\u001b[1;33m[\u001b[0m\u001b[1;33m:\u001b[0m\u001b[1;36m5\u001b[0m\u001b[1;33m]\u001b[0m\u001b[1;33m\u001b[0m\u001b[1;33m\u001b[0m\u001b[0m\n\u001b[0m",
      "\u001b[1;31mTypeError\u001b[0m: unhashable type: 'slice'"
     ]
    }
   ],
   "source": [
    "#---------- Show unique values the \"type\" column can represent ----------\n",
    "dfList[0]"
   ]
  },
  {
   "cell_type": "code",
   "execution_count": 34,
   "metadata": {},
   "outputs": [
    {
     "data": {
      "text/plain": [
       "array([None, 'cm', 'kg', 'count/min', 'count', 'km', 'kcal', 'min',\n",
       "       'mL/min·kg', 'ms'], dtype=object)"
      ]
     },
     "execution_count": 34,
     "metadata": {},
     "output_type": "execute_result"
    }
   ],
   "source": [
    "#---------- Show unique values the \"unit\" column can represent ----------\n",
    "dfList[0]['unit'].unique()"
   ]
  },
  {
   "cell_type": "code",
   "execution_count": 37,
   "metadata": {},
   "outputs": [
    {
     "data": {
      "text/plain": [
       "array([None, 'PankreasHs iPhone', 'PankreasHs Apple\\xa0Watch'],\n",
       "      dtype=object)"
      ]
     },
     "execution_count": 37,
     "metadata": {},
     "output_type": "execute_result"
    }
   ],
   "source": [
    "dfList[0]['sourceName'].unique() #Check availible devices - PankreasHs Apple\\xa0Watch"
   ]
  },
  {
   "cell_type": "code",
   "execution_count": 82,
   "metadata": {},
   "outputs": [],
   "source": [
    "for df in dfList:\n",
    "    #---------- Filter by device ----------\n",
    "    df = df[df['sourceName'] == 'PankreasHs Apple\\xa0Watch']\n",
    "\n",
    "    #---------- Convert to datetime object ----------\n",
    "    pd.options.mode.chained_assignment = None  # default='warn'\n",
    "\n",
    "    format = '%Y-%m-%d %H:%M:%S %z'\n",
    "    df['creationDate'] = pd.to_datetime(df['creationDate'], format=format)\n",
    "    #df['startDate'] = pd.to_datetime(df['startDate'], format=format)\n",
    "    #df['endDate'] = pd.to_datetime(df['endDate'], format=format)"
   ]
  },
  {
   "cell_type": "code",
   "execution_count": 101,
   "metadata": {},
   "outputs": [],
   "source": [
    "stepCounts = []\n",
    "energyBurned = []\n",
    "flightsClimbed = []\n",
    "heartRate = []\n",
    "\n",
    "#---------- Filter by type ----------\n",
    "#step_counts.dtypes - Check types for availible columns of specific values\n",
    "for df in dflist:\n",
    "    dfShaved = df[['creationDate', 'value', 'type']].copy()\n",
    "    stepCounts.append(dfShaved[dfShaved['type'] == 'HKQuantityTypeIdentifierStepCount'])\n",
    "    energyBurned.append(dfShaved[dfShaved['type'] == 'HKQuantityTypeIdentifierBasalEnergyBurned']) \n",
    "    flightsClimbed.append(dfShaved[dfShaved['type'] == 'HKQuantityTypeIdentifierFlightsClimbed']) \n",
    "    heartRate.append(dfShaved[dfShaved['type'] == 'HKQuantityTypeIdentifierHeartRate']) \n",
    "    \n",
    " #----------Set correct value type ----------\n",
    "for typeId in (stepCounts, energyBurned, flightsClimbed, heartRate):\n",
    "    for typeIdElement in typeId:\n",
    "        typeIdElement.loc[:, 'value'] = pd.to_numeric(typeIdElement.loc[:, 'value'])\n",
    "        typeIdElement['creationDate'] = pd.to_datetime(typeIdElement['creationDate'])\n",
    "        \n",
    "#stepCounts.loc[:, '@value'] = pd.to_numeric(stepCounts.loc[:, '@value'])\n",
    "#energyBurned.loc[:, '@value'] = pd.to_numeric(energyBurned.loc[:, '@value'])\n",
    "#flightsClimbed.loc[:, '@value'] = pd.to_numeric(flightsClimbed.loc[:, '@value'])\n",
    "#heartRate.loc[:, 'value'] = pd.to_numeric(heartRate.loc[:, 'value'])"
   ]
  },
  {
   "cell_type": "code",
   "execution_count": 118,
   "metadata": {},
   "outputs": [],
   "source": [
    "plotIndex = 0"
   ]
  },
  {
   "cell_type": "code",
   "execution_count": 284,
   "metadata": {},
   "outputs": [
    {
     "data": {
      "text/plain": [
       "<AxesSubplot:xlabel='timestamp'>"
      ]
     },
     "execution_count": 284,
     "metadata": {},
     "output_type": "execute_result"
    },
    {
     "data": {
      "image/png": "[encoded data removed]",
      "text/plain": [
       "<Figure size 576x432 with 1 Axes>"
      ]
     },
     "metadata": {
      "needs_background": "light"
     },
     "output_type": "display_data"
    }
   ],
   "source": [
    "#---------- Mean heart rate plot ----------\n",
    "heartRate_byCreation = patientRecordsSelect[plotIndex].groupby('timestamp').mean()\n",
    "heartRate_byDay = heartRate_byCreation['heartRate'].resample('D').mean()\n",
    "heartRate_byMonth_mean = heartRate_byDay.resample('M').mean()\n",
    "heartRate_byDay.plot()\n",
    "heartRate_byMonth_mean.plot()"
   ]
  },
  {
   "cell_type": "code",
   "execution_count": 121,
   "metadata": {},
   "outputs": [
    {
     "data": {
      "text/plain": [
       "<AxesSubplot:xlabel='creationDate'>"
      ]
     },
     "execution_count": 121,
     "metadata": {},
     "output_type": "execute_result"
    },
    {
     "data": {
      "image/png": "[encoded data removed]",
      "text/plain": [
       "<Figure size 576x432 with 1 Axes>"
      ]
     },
     "metadata": {
      "needs_background": "light"
     },
     "output_type": "display_data"
    }
   ],
   "source": [
    "#---------- Mean flights climbed plot ----------\n",
    "flightsClimbed_byCreation = flightsClimbed[plotIndex].groupby('creationDate').sum()\n",
    "flightsClimbed_byDay = flightsClimbed_byCreation['value'].resample('D').sum()\n",
    "flightsClimbed_byMonth_mean = flightsClimbed_byDay.resample('M').mean()\n",
    "flightsClimbed_byDay.plot()\n",
    "flightsClimbed_byMonth_mean.plot()"
   ]
  },
  {
   "cell_type": "code",
   "execution_count": 286,
   "metadata": {},
   "outputs": [
    {
     "data": {
      "text/plain": [
       "<AxesSubplot:xlabel='timestamp'>"
      ]
     },
     "execution_count": 286,
     "metadata": {},
     "output_type": "execute_result"
    },
    {
     "data": {
      "image/png": "[encoded data removed]",
      "text/plain": [
       "<Figure size 576x432 with 1 Axes>"
      ]
     },
     "metadata": {
      "needs_background": "light"
     },
     "output_type": "display_data"
    }
   ],
   "source": [
    "#---------- Mean step count plot ----------\n",
    "stepCounts_byCreation = patientRecordsSelect[plotIndex].groupby('timestamp').sum()\n",
    "stepCounts_byDay = stepCounts_byCreation['steps'].resample('D').sum()\n",
    "stepCounts_byMonth_mean = stepCounts_byDay.resample('M').mean()\n",
    "stepCounts_byDay.plot()\n",
    "stepCounts_byMonth_mean.plot()"
   ]
  },
  {
   "cell_type": "code",
   "execution_count": 123,
   "metadata": {},
   "outputs": [
    {
     "data": {
      "text/plain": [
       "<AxesSubplot:xlabel='creationDate'>"
      ]
     },
     "execution_count": 123,
     "metadata": {},
     "output_type": "execute_result"
    },
    {
     "data": {
      "image/png": "[encoded data removed]",
      "text/plain": [
       "<Figure size 576x432 with 1 Axes>"
      ]
     },
     "metadata": {
      "needs_background": "light"
     },
     "output_type": "display_data"
    }
   ],
   "source": [
    "#---------- Mean energy burned plot ----------\n",
    "energyBurned_byCreation = energyBurned[plotIndex].groupby('creationDate').sum()\n",
    "energyBurned_byDay = energyBurned_byCreation['value'].resample('D').sum()\n",
    "energyBurned_byMonth_mean = energyBurned_byDay.resample('M').mean()\n",
    "energyBurned_byDay.plot(ylim=(0,6000))\n",
    "energyBurned_byMonth_mean.plot()"
   ]
  },
  {
   "cell_type": "code",
   "execution_count": 124,
   "metadata": {},
   "outputs": [
    {
     "data": {
      "text/plain": [
       "<AxesSubplot:>"
      ]
     },
     "execution_count": 124,
     "metadata": {},
     "output_type": "execute_result"
    },
    {
     "data": {
      "image/png": "[encoded data removed]",
      "text/plain": [
       "<Figure size 576x432 with 1 Axes>"
      ]
     },
     "metadata": {
      "needs_background": "light"
     },
     "output_type": "display_data"
    }
   ],
   "source": [
    "#---------- Analysis by month ----------\n",
    "import calendar\n",
    "\n",
    "means_by_month = stepCounts_byMonth_mean.groupby(stepCounts_byMonth_mean.index.month).mean()\n",
    "means_by_month.index = list(calendar.month_name)[1:]\n",
    "\n",
    "means_by_month.plot(kind='bar')"
   ]
  },
  {
   "cell_type": "code",
   "execution_count": 172,
   "metadata": {},
   "outputs": [
    {
     "ename": "KeyError",
     "evalue": "'creationDate'",
     "output_type": "error",
     "traceback": [
      "\u001b[1;31m---------------------------------------------------------------------------\u001b[0m",
      "\u001b[1;31mKeyError\u001b[0m                                  Traceback (most recent call last)",
      "\u001b[1;32m~\\AppData\\Local\\Temp/ipykernel_3200/2470802117.py\u001b[0m in \u001b[0;36m<module>\u001b[1;34m\u001b[0m\n\u001b[0;32m     26\u001b[0m \u001b[1;31m#df = pd.concat([stepCounts_byDay, flightsClimbed_byDay, heartRate_byDay], axis=1)\u001b[0m\u001b[1;33m\u001b[0m\u001b[1;33m\u001b[0m\u001b[0m\n\u001b[0;32m     27\u001b[0m \u001b[1;33m\u001b[0m\u001b[0m\n\u001b[1;32m---> 28\u001b[1;33m \u001b[0mdf\u001b[0m \u001b[1;33m=\u001b[0m \u001b[0mpd\u001b[0m\u001b[1;33m.\u001b[0m\u001b[0mmerge_ordered\u001b[0m\u001b[1;33m(\u001b[0m\u001b[0mtotalSteps\u001b[0m\u001b[1;33m.\u001b[0m\u001b[0mtranspose\u001b[0m\u001b[1;33m(\u001b[0m\u001b[1;33m)\u001b[0m\u001b[1;33m,\u001b[0m \u001b[0mtotalFlights\u001b[0m\u001b[1;33m.\u001b[0m\u001b[0mtranspose\u001b[0m\u001b[1;33m(\u001b[0m\u001b[1;33m)\u001b[0m\u001b[1;33m,\u001b[0m \u001b[0mon\u001b[0m\u001b[1;33m=\u001b[0m\u001b[1;34m'creationDate'\u001b[0m\u001b[1;33m)\u001b[0m\u001b[1;33m\u001b[0m\u001b[1;33m\u001b[0m\u001b[0m\n\u001b[0m\u001b[0;32m     29\u001b[0m \u001b[1;31m#df.columns = ['steps', 'flightsClimbed', 'heartRate']\u001b[0m\u001b[1;33m\u001b[0m\u001b[1;33m\u001b[0m\u001b[0m\n\u001b[0;32m     30\u001b[0m \u001b[1;31m#df.index.names = ['date']\u001b[0m\u001b[1;33m\u001b[0m\u001b[1;33m\u001b[0m\u001b[0m\n",
      "\u001b[1;32m~\\anaconda3\\lib\\site-packages\\pandas\\core\\reshape\\merge.py\u001b[0m in \u001b[0;36mmerge_ordered\u001b[1;34m(left, right, on, left_on, right_on, left_by, right_by, fill_method, suffixes, how)\u001b[0m\n\u001b[0;32m    319\u001b[0m         )\n\u001b[0;32m    320\u001b[0m     \u001b[1;32melse\u001b[0m\u001b[1;33m:\u001b[0m\u001b[1;33m\u001b[0m\u001b[1;33m\u001b[0m\u001b[0m\n\u001b[1;32m--> 321\u001b[1;33m         \u001b[0mresult\u001b[0m \u001b[1;33m=\u001b[0m \u001b[0m_merger\u001b[0m\u001b[1;33m(\u001b[0m\u001b[0mleft\u001b[0m\u001b[1;33m,\u001b[0m \u001b[0mright\u001b[0m\u001b[1;33m)\u001b[0m\u001b[1;33m\u001b[0m\u001b[1;33m\u001b[0m\u001b[0m\n\u001b[0m\u001b[0;32m    322\u001b[0m     \u001b[1;32mreturn\u001b[0m \u001b[0mresult\u001b[0m\u001b[1;33m\u001b[0m\u001b[1;33m\u001b[0m\u001b[0m\n\u001b[0;32m    323\u001b[0m \u001b[1;33m\u001b[0m\u001b[0m\n",
      "\u001b[1;32m~\\anaconda3\\lib\\site-packages\\pandas\\core\\reshape\\merge.py\u001b[0m in \u001b[0;36m_merger\u001b[1;34m(x, y)\u001b[0m\n\u001b[0;32m    288\u001b[0m     \u001b[1;32mdef\u001b[0m \u001b[0m_merger\u001b[0m\u001b[1;33m(\u001b[0m\u001b[0mx\u001b[0m\u001b[1;33m,\u001b[0m \u001b[0my\u001b[0m\u001b[1;33m)\u001b[0m \u001b[1;33m->\u001b[0m \u001b[0mDataFrame\u001b[0m\u001b[1;33m:\u001b[0m\u001b[1;33m\u001b[0m\u001b[1;33m\u001b[0m\u001b[0m\n\u001b[0;32m    289\u001b[0m         \u001b[1;31m# perform the ordered merge operation\u001b[0m\u001b[1;33m\u001b[0m\u001b[1;33m\u001b[0m\u001b[0m\n\u001b[1;32m--> 290\u001b[1;33m         op = _OrderedMerge(\n\u001b[0m\u001b[0;32m    291\u001b[0m             \u001b[0mx\u001b[0m\u001b[1;33m,\u001b[0m\u001b[1;33m\u001b[0m\u001b[1;33m\u001b[0m\u001b[0m\n\u001b[0;32m    292\u001b[0m             \u001b[0my\u001b[0m\u001b[1;33m,\u001b[0m\u001b[1;33m\u001b[0m\u001b[1;33m\u001b[0m\u001b[0m\n",
      "\u001b[1;32m~\\anaconda3\\lib\\site-packages\\pandas\\core\\reshape\\merge.py\u001b[0m in \u001b[0;36m__init__\u001b[1;34m(self, left, right, on, left_on, right_on, left_index, right_index, axis, suffixes, copy, fill_method, how)\u001b[0m\n\u001b[0;32m   1621\u001b[0m \u001b[1;33m\u001b[0m\u001b[0m\n\u001b[0;32m   1622\u001b[0m         \u001b[0mself\u001b[0m\u001b[1;33m.\u001b[0m\u001b[0mfill_method\u001b[0m \u001b[1;33m=\u001b[0m \u001b[0mfill_method\u001b[0m\u001b[1;33m\u001b[0m\u001b[1;33m\u001b[0m\u001b[0m\n\u001b[1;32m-> 1623\u001b[1;33m         _MergeOperation.__init__(\n\u001b[0m\u001b[0;32m   1624\u001b[0m             \u001b[0mself\u001b[0m\u001b[1;33m,\u001b[0m\u001b[1;33m\u001b[0m\u001b[1;33m\u001b[0m\u001b[0m\n\u001b[0;32m   1625\u001b[0m             \u001b[0mleft\u001b[0m\u001b[1;33m,\u001b[0m\u001b[1;33m\u001b[0m\u001b[1;33m\u001b[0m\u001b[0m\n",
      "\u001b[1;32m~\\anaconda3\\lib\\site-packages\\pandas\\core\\reshape\\merge.py\u001b[0m in \u001b[0;36m__init__\u001b[1;34m(self, left, right, how, on, left_on, right_on, axis, left_index, right_index, sort, suffixes, copy, indicator, validate)\u001b[0m\n\u001b[0;32m    697\u001b[0m             \u001b[0mself\u001b[0m\u001b[1;33m.\u001b[0m\u001b[0mright_join_keys\u001b[0m\u001b[1;33m,\u001b[0m\u001b[1;33m\u001b[0m\u001b[1;33m\u001b[0m\u001b[0m\n\u001b[0;32m    698\u001b[0m             \u001b[0mself\u001b[0m\u001b[1;33m.\u001b[0m\u001b[0mjoin_names\u001b[0m\u001b[1;33m,\u001b[0m\u001b[1;33m\u001b[0m\u001b[1;33m\u001b[0m\u001b[0m\n\u001b[1;32m--> 699\u001b[1;33m         ) = self._get_merge_keys()\n\u001b[0m\u001b[0;32m    700\u001b[0m \u001b[1;33m\u001b[0m\u001b[0m\n\u001b[0;32m    701\u001b[0m         \u001b[1;31m# validate the merge keys dtypes. We may need to coerce\u001b[0m\u001b[1;33m\u001b[0m\u001b[1;33m\u001b[0m\u001b[0m\n",
      "\u001b[1;32m~\\anaconda3\\lib\\site-packages\\pandas\\core\\reshape\\merge.py\u001b[0m in \u001b[0;36m_get_merge_keys\u001b[1;34m(self)\u001b[0m\n\u001b[0;32m   1094\u001b[0m                     \u001b[1;32mif\u001b[0m \u001b[1;32mnot\u001b[0m \u001b[0mis_rkey\u001b[0m\u001b[1;33m(\u001b[0m\u001b[0mrk\u001b[0m\u001b[1;33m)\u001b[0m\u001b[1;33m:\u001b[0m\u001b[1;33m\u001b[0m\u001b[1;33m\u001b[0m\u001b[0m\n\u001b[0;32m   1095\u001b[0m                         \u001b[1;32mif\u001b[0m \u001b[0mrk\u001b[0m \u001b[1;32mis\u001b[0m \u001b[1;32mnot\u001b[0m \u001b[1;32mNone\u001b[0m\u001b[1;33m:\u001b[0m\u001b[1;33m\u001b[0m\u001b[1;33m\u001b[0m\u001b[0m\n\u001b[1;32m-> 1096\u001b[1;33m                             \u001b[0mright_keys\u001b[0m\u001b[1;33m.\u001b[0m\u001b[0mappend\u001b[0m\u001b[1;33m(\u001b[0m\u001b[0mright\u001b[0m\u001b[1;33m.\u001b[0m\u001b[0m_get_label_or_level_values\u001b[0m\u001b[1;33m(\u001b[0m\u001b[0mrk\u001b[0m\u001b[1;33m)\u001b[0m\u001b[1;33m)\u001b[0m\u001b[1;33m\u001b[0m\u001b[1;33m\u001b[0m\u001b[0m\n\u001b[0m\u001b[0;32m   1097\u001b[0m                         \u001b[1;32melse\u001b[0m\u001b[1;33m:\u001b[0m\u001b[1;33m\u001b[0m\u001b[1;33m\u001b[0m\u001b[0m\n\u001b[0;32m   1098\u001b[0m                             \u001b[1;31m# work-around for merge_asof(right_index=True)\u001b[0m\u001b[1;33m\u001b[0m\u001b[1;33m\u001b[0m\u001b[0m\n",
      "\u001b[1;32m~\\anaconda3\\lib\\site-packages\\pandas\\core\\generic.py\u001b[0m in \u001b[0;36m_get_label_or_level_values\u001b[1;34m(self, key, axis)\u001b[0m\n\u001b[0;32m   1777\u001b[0m             \u001b[0mvalues\u001b[0m \u001b[1;33m=\u001b[0m \u001b[0mself\u001b[0m\u001b[1;33m.\u001b[0m\u001b[0maxes\u001b[0m\u001b[1;33m[\u001b[0m\u001b[0maxis\u001b[0m\u001b[1;33m]\u001b[0m\u001b[1;33m.\u001b[0m\u001b[0mget_level_values\u001b[0m\u001b[1;33m(\u001b[0m\u001b[0mkey\u001b[0m\u001b[1;33m)\u001b[0m\u001b[1;33m.\u001b[0m\u001b[0m_values\u001b[0m\u001b[1;33m\u001b[0m\u001b[1;33m\u001b[0m\u001b[0m\n\u001b[0;32m   1778\u001b[0m         \u001b[1;32melse\u001b[0m\u001b[1;33m:\u001b[0m\u001b[1;33m\u001b[0m\u001b[1;33m\u001b[0m\u001b[0m\n\u001b[1;32m-> 1779\u001b[1;33m             \u001b[1;32mraise\u001b[0m \u001b[0mKeyError\u001b[0m\u001b[1;33m(\u001b[0m\u001b[0mkey\u001b[0m\u001b[1;33m)\u001b[0m\u001b[1;33m\u001b[0m\u001b[1;33m\u001b[0m\u001b[0m\n\u001b[0m\u001b[0;32m   1780\u001b[0m \u001b[1;33m\u001b[0m\u001b[0m\n\u001b[0;32m   1781\u001b[0m         \u001b[1;31m# Check for duplicates\u001b[0m\u001b[1;33m\u001b[0m\u001b[1;33m\u001b[0m\u001b[0m\n",
      "\u001b[1;31mKeyError\u001b[0m: 'creationDate'"
     ]
    }
   ],
   "source": [
    " #----------Set correct value type ----------\n",
    "totalSteps = pd.DataFrame()\n",
    "totalFlights = pd.DataFrame()\n",
    "totalHeart = pd.DataFrame()\n",
    "\n",
    "\n",
    "for index in range(len(dfList)):\n",
    "        stepCounts_byCreation = stepCounts[index].groupby('creationDate').sum()\n",
    "        stepCounts_byDay = stepCounts_byCreation['value'].resample('D').sum()\n",
    "        totalSteps = totalSteps.append(stepCounts_byDay)\n",
    "        \n",
    "        flightsClimbed_byCreation = flightsClimbed[index].groupby('creationDate').sum()\n",
    "        flightsClimbed_byDay = flightsClimbed_byCreation['value'].resample('D').sum()\n",
    "        totalFlights = totalFlights.append(flightsClimbed_byDay)\n",
    "        \n",
    "        heartRate_byCreation = heartRate[index].groupby('creationDate').mean()\n",
    "        heartRate_byDay = heartRate_byCreation['value'].resample('D').mean()\n",
    "        totalHeart = totalHeart.append(heartRate_byDay)\n",
    "\n",
    "        \n",
    "df = pd.merge_ordered(totalSteps, totalFlights, totalHeart, on='creationDate')\n",
    "\n",
    "#df.fillna(pad)\n",
    "#df.interpolate"
   ]
  },
  {
   "cell_type": "code",
   "execution_count": 162,
   "metadata": {},
   "outputs": [
    {
     "data": {
      "text/html": [
       "<div>\n",
       "<style scoped>\n",
       "    .dataframe tbody tr th:only-of-type {\n",
       "        vertical-align: middle;\n",
       "    }\n",
       "\n",
       "    .dataframe tbody tr th {\n",
       "        vertical-align: top;\n",
       "    }\n",
       "\n",
       "    .dataframe thead th {\n",
       "        text-align: right;\n",
       "    }\n",
       "</style>\n",
       "<table border=\"1\" class=\"dataframe\">\n",
       "  <thead>\n",
       "    <tr style=\"text-align: right;\">\n",
       "      <th></th>\n",
       "      <th>2018-04-09 00:00:00+02:00</th>\n",
       "      <th>2018-04-10 00:00:00+02:00</th>\n",
       "      <th>2018-04-11 00:00:00+02:00</th>\n",
       "      <th>2018-04-12 00:00:00+02:00</th>\n",
       "      <th>2018-04-13 00:00:00+02:00</th>\n",
       "      <th>2018-04-14 00:00:00+02:00</th>\n",
       "      <th>2018-04-15 00:00:00+02:00</th>\n",
       "      <th>2018-04-16 00:00:00+02:00</th>\n",
       "      <th>2018-04-17 00:00:00+02:00</th>\n",
       "      <th>2018-04-18 00:00:00+02:00</th>\n",
       "      <th>...</th>\n",
       "      <th>2018-01-23 00:00:00+02:00</th>\n",
       "      <th>2018-01-24 00:00:00+02:00</th>\n",
       "      <th>2018-01-25 00:00:00+02:00</th>\n",
       "      <th>2018-01-26 00:00:00+02:00</th>\n",
       "      <th>2018-01-27 00:00:00+02:00</th>\n",
       "      <th>2018-01-28 00:00:00+02:00</th>\n",
       "      <th>2018-01-29 00:00:00+02:00</th>\n",
       "      <th>2018-01-30 00:00:00+02:00</th>\n",
       "      <th>2018-01-31 00:00:00+02:00</th>\n",
       "      <th>2018-02-01 00:00:00+02:00</th>\n",
       "    </tr>\n",
       "  </thead>\n",
       "  <tbody>\n",
       "    <tr>\n",
       "      <th>value</th>\n",
       "      <td>1733.0</td>\n",
       "      <td>0.0</td>\n",
       "      <td>0.0</td>\n",
       "      <td>0.0</td>\n",
       "      <td>0.0</td>\n",
       "      <td>0.0</td>\n",
       "      <td>0.0</td>\n",
       "      <td>12163.0</td>\n",
       "      <td>12355.0</td>\n",
       "      <td>12640.0</td>\n",
       "      <td>...</td>\n",
       "      <td>NaN</td>\n",
       "      <td>NaN</td>\n",
       "      <td>NaN</td>\n",
       "      <td>NaN</td>\n",
       "      <td>NaN</td>\n",
       "      <td>NaN</td>\n",
       "      <td>NaN</td>\n",
       "      <td>NaN</td>\n",
       "      <td>NaN</td>\n",
       "      <td>NaN</td>\n",
       "    </tr>\n",
       "    <tr>\n",
       "      <th>value</th>\n",
       "      <td>6928.0</td>\n",
       "      <td>2311.0</td>\n",
       "      <td>5658.0</td>\n",
       "      <td>5233.0</td>\n",
       "      <td>0.0</td>\n",
       "      <td>0.0</td>\n",
       "      <td>0.0</td>\n",
       "      <td>0.0</td>\n",
       "      <td>0.0</td>\n",
       "      <td>0.0</td>\n",
       "      <td>...</td>\n",
       "      <td>68.076923</td>\n",
       "      <td>70.172414</td>\n",
       "      <td>NaN</td>\n",
       "      <td>NaN</td>\n",
       "      <td>NaN</td>\n",
       "      <td>NaN</td>\n",
       "      <td>NaN</td>\n",
       "      <td>72.881119</td>\n",
       "      <td>70.456522</td>\n",
       "      <td>75.373333</td>\n",
       "    </tr>\n",
       "  </tbody>\n",
       "</table>\n",
       "<p>2 rows × 1503 columns</p>\n",
       "</div>"
      ],
      "text/plain": [
       "       2018-04-09 00:00:00+02:00  2018-04-10 00:00:00+02:00  \\\n",
       "value                     1733.0                        0.0   \n",
       "value                     6928.0                     2311.0   \n",
       "\n",
       "       2018-04-11 00:00:00+02:00  2018-04-12 00:00:00+02:00  \\\n",
       "value                        0.0                        0.0   \n",
       "value                     5658.0                     5233.0   \n",
       "\n",
       "       2018-04-13 00:00:00+02:00  2018-04-14 00:00:00+02:00  \\\n",
       "value                        0.0                        0.0   \n",
       "value                        0.0                        0.0   \n",
       "\n",
       "       2018-04-15 00:00:00+02:00  2018-04-16 00:00:00+02:00  \\\n",
       "value                        0.0                    12163.0   \n",
       "value                        0.0                        0.0   \n",
       "\n",
       "       2018-04-17 00:00:00+02:00  2018-04-18 00:00:00+02:00  ...  \\\n",
       "value                    12355.0                    12640.0  ...   \n",
       "value                        0.0                        0.0  ...   \n",
       "\n",
       "       2018-01-23 00:00:00+02:00  2018-01-24 00:00:00+02:00  \\\n",
       "value                        NaN                        NaN   \n",
       "value                  68.076923                  70.172414   \n",
       "\n",
       "       2018-01-25 00:00:00+02:00  2018-01-26 00:00:00+02:00  \\\n",
       "value                        NaN                        NaN   \n",
       "value                        NaN                        NaN   \n",
       "\n",
       "       2018-01-27 00:00:00+02:00  2018-01-28 00:00:00+02:00  \\\n",
       "value                        NaN                        NaN   \n",
       "value                        NaN                        NaN   \n",
       "\n",
       "       2018-01-29 00:00:00+02:00  2018-01-30 00:00:00+02:00  \\\n",
       "value                        NaN                        NaN   \n",
       "value                        NaN                  72.881119   \n",
       "\n",
       "       2018-01-31 00:00:00+02:00  2018-02-01 00:00:00+02:00  \n",
       "value                        NaN                        NaN  \n",
       "value                  70.456522                  75.373333  \n",
       "\n",
       "[2 rows x 1503 columns]"
      ]
     },
     "execution_count": 162,
     "metadata": {},
     "output_type": "execute_result"
    }
   ],
   "source": [
    "df"
   ]
  },
  {
   "cell_type": "code",
   "execution_count": 170,
   "metadata": {},
   "outputs": [
    {
     "data": {
      "text/html": [
       "<div>\n",
       "<style scoped>\n",
       "    .dataframe tbody tr th:only-of-type {\n",
       "        vertical-align: middle;\n",
       "    }\n",
       "\n",
       "    .dataframe tbody tr th {\n",
       "        vertical-align: top;\n",
       "    }\n",
       "\n",
       "    .dataframe thead th {\n",
       "        text-align: right;\n",
       "    }\n",
       "</style>\n",
       "<table border=\"1\" class=\"dataframe\">\n",
       "  <thead>\n",
       "    <tr style=\"text-align: right;\">\n",
       "      <th></th>\n",
       "      <th>2018-04-09 00:00:00+02:00</th>\n",
       "      <th>2018-04-10 00:00:00+02:00</th>\n",
       "      <th>2018-04-11 00:00:00+02:00</th>\n",
       "      <th>2018-04-12 00:00:00+02:00</th>\n",
       "      <th>2018-04-13 00:00:00+02:00</th>\n",
       "      <th>2018-04-14 00:00:00+02:00</th>\n",
       "      <th>2018-04-15 00:00:00+02:00</th>\n",
       "      <th>2018-04-16 00:00:00+02:00</th>\n",
       "      <th>2018-04-17 00:00:00+02:00</th>\n",
       "      <th>2018-04-18 00:00:00+02:00</th>\n",
       "      <th>...</th>\n",
       "      <th>2018-03-30 00:00:00+02:00</th>\n",
       "      <th>2018-03-31 00:00:00+02:00</th>\n",
       "      <th>2018-04-01 00:00:00+02:00</th>\n",
       "      <th>2018-04-02 00:00:00+02:00</th>\n",
       "      <th>2018-04-03 00:00:00+02:00</th>\n",
       "      <th>2018-04-04 00:00:00+02:00</th>\n",
       "      <th>2018-04-05 00:00:00+02:00</th>\n",
       "      <th>2018-04-06 00:00:00+02:00</th>\n",
       "      <th>2018-04-07 00:00:00+02:00</th>\n",
       "      <th>2018-04-08 00:00:00+02:00</th>\n",
       "    </tr>\n",
       "  </thead>\n",
       "  <tbody>\n",
       "    <tr>\n",
       "      <th>value</th>\n",
       "      <td>1733.0</td>\n",
       "      <td>0.0</td>\n",
       "      <td>0.0</td>\n",
       "      <td>0.0</td>\n",
       "      <td>0.0</td>\n",
       "      <td>0.0</td>\n",
       "      <td>0.0</td>\n",
       "      <td>12163.0</td>\n",
       "      <td>12355.0</td>\n",
       "      <td>12640.0</td>\n",
       "      <td>...</td>\n",
       "      <td>NaN</td>\n",
       "      <td>NaN</td>\n",
       "      <td>NaN</td>\n",
       "      <td>NaN</td>\n",
       "      <td>NaN</td>\n",
       "      <td>NaN</td>\n",
       "      <td>NaN</td>\n",
       "      <td>NaN</td>\n",
       "      <td>NaN</td>\n",
       "      <td>NaN</td>\n",
       "    </tr>\n",
       "    <tr>\n",
       "      <th>value</th>\n",
       "      <td>6928.0</td>\n",
       "      <td>2311.0</td>\n",
       "      <td>5658.0</td>\n",
       "      <td>5233.0</td>\n",
       "      <td>0.0</td>\n",
       "      <td>0.0</td>\n",
       "      <td>0.0</td>\n",
       "      <td>0.0</td>\n",
       "      <td>0.0</td>\n",
       "      <td>0.0</td>\n",
       "      <td>...</td>\n",
       "      <td>0.0</td>\n",
       "      <td>0.0</td>\n",
       "      <td>0.0</td>\n",
       "      <td>0.0</td>\n",
       "      <td>0.0</td>\n",
       "      <td>0.0</td>\n",
       "      <td>0.0</td>\n",
       "      <td>0.0</td>\n",
       "      <td>4112.0</td>\n",
       "      <td>2234.0</td>\n",
       "    </tr>\n",
       "  </tbody>\n",
       "</table>\n",
       "<p>2 rows × 554 columns</p>\n",
       "</div>"
      ],
      "text/plain": [
       "       2018-04-09 00:00:00+02:00  2018-04-10 00:00:00+02:00  \\\n",
       "value                     1733.0                        0.0   \n",
       "value                     6928.0                     2311.0   \n",
       "\n",
       "       2018-04-11 00:00:00+02:00  2018-04-12 00:00:00+02:00  \\\n",
       "value                        0.0                        0.0   \n",
       "value                     5658.0                     5233.0   \n",
       "\n",
       "       2018-04-13 00:00:00+02:00  2018-04-14 00:00:00+02:00  \\\n",
       "value                        0.0                        0.0   \n",
       "value                        0.0                        0.0   \n",
       "\n",
       "       2018-04-15 00:00:00+02:00  2018-04-16 00:00:00+02:00  \\\n",
       "value                        0.0                    12163.0   \n",
       "value                        0.0                        0.0   \n",
       "\n",
       "       2018-04-17 00:00:00+02:00  2018-04-18 00:00:00+02:00  ...  \\\n",
       "value                    12355.0                    12640.0  ...   \n",
       "value                        0.0                        0.0  ...   \n",
       "\n",
       "       2018-03-30 00:00:00+02:00  2018-03-31 00:00:00+02:00  \\\n",
       "value                        NaN                        NaN   \n",
       "value                        0.0                        0.0   \n",
       "\n",
       "       2018-04-01 00:00:00+02:00  2018-04-02 00:00:00+02:00  \\\n",
       "value                        NaN                        NaN   \n",
       "value                        0.0                        0.0   \n",
       "\n",
       "       2018-04-03 00:00:00+02:00  2018-04-04 00:00:00+02:00  \\\n",
       "value                        NaN                        NaN   \n",
       "value                        0.0                        0.0   \n",
       "\n",
       "       2018-04-05 00:00:00+02:00  2018-04-06 00:00:00+02:00  \\\n",
       "value                        NaN                        NaN   \n",
       "value                        0.0                        0.0   \n",
       "\n",
       "       2018-04-07 00:00:00+02:00  2018-04-08 00:00:00+02:00  \n",
       "value                        NaN                        NaN  \n",
       "value                     4112.0                     2234.0  \n",
       "\n",
       "[2 rows x 554 columns]"
      ]
     },
     "execution_count": 170,
     "metadata": {},
     "output_type": "execute_result"
    }
   ],
   "source": [
    "totalSteps"
   ]
  },
  {
   "cell_type": "code",
   "execution_count": 132,
   "metadata": {},
   "outputs": [
    {
     "data": {
      "text/plain": [
       "creationDate\n",
       "2018-01-16 00:00:00+02:00    12567\n",
       "2018-01-17 00:00:00+02:00     1212\n",
       "2018-01-18 00:00:00+02:00     2023\n",
       "2018-01-19 00:00:00+02:00     2603\n",
       "2018-01-20 00:00:00+02:00     3208\n",
       "                             ...  \n",
       "2018-09-14 00:00:00+02:00        0\n",
       "2018-09-15 00:00:00+02:00        0\n",
       "2018-09-16 00:00:00+02:00        0\n",
       "2018-09-17 00:00:00+02:00        0\n",
       "2018-09-18 00:00:00+02:00       18\n",
       "Freq: D, Name: value, Length: 246, dtype: int64"
      ]
     },
     "execution_count": 132,
     "metadata": {},
     "output_type": "execute_result"
    }
   ],
   "source": [
    "stepCounts_byDay"
   ]
  },
  {
   "cell_type": "code",
   "execution_count": 560,
   "metadata": {},
   "outputs": [
    {
     "data": {
      "text/plain": [
       "date\n",
       "2018-04-09 00:00:00+02:00    912.0\n",
       "2018-04-10 00:00:00+02:00      0.0\n",
       "2018-04-11 00:00:00+02:00      0.0\n",
       "2018-04-12 00:00:00+02:00      0.0\n",
       "2018-04-13 00:00:00+02:00      0.0\n",
       "Freq: D, Name: steps, dtype: float64"
      ]
     },
     "execution_count": 560,
     "metadata": {},
     "output_type": "execute_result"
    }
   ],
   "source": [
    "df = df.drop(df.index[range(66)])\n",
    "df['steps'][:5]"
   ]
  },
  {
   "cell_type": "code",
   "execution_count": null,
   "metadata": {},
   "outputs": [],
   "source": [
    "df['steps'].plot()"
   ]
  },
  {
   "cell_type": "code",
   "execution_count": null,
   "metadata": {},
   "outputs": [],
   "source": [
    "df['flightsClimbed'].plot()"
   ]
  },
  {
   "cell_type": "code",
   "execution_count": null,
   "metadata": {},
   "outputs": [],
   "source": [
    "df['heartRate'].plot()"
   ]
  },
  {
   "cell_type": "code",
   "execution_count": 561,
   "metadata": {},
   "outputs": [],
   "source": [
    "output = df.pop('heartRate')\n",
    "inputs = df"
   ]
  },
  {
   "cell_type": "code",
   "execution_count": 552,
   "metadata": {},
   "outputs": [
    {
     "data": {
      "text/html": [
       "<div>\n",
       "<style scoped>\n",
       "    .dataframe tbody tr th:only-of-type {\n",
       "        vertical-align: middle;\n",
       "    }\n",
       "\n",
       "    .dataframe tbody tr th {\n",
       "        vertical-align: top;\n",
       "    }\n",
       "\n",
       "    .dataframe thead th {\n",
       "        text-align: right;\n",
       "    }\n",
       "</style>\n",
       "<table border=\"1\" class=\"dataframe\">\n",
       "  <thead>\n",
       "    <tr style=\"text-align: right;\">\n",
       "      <th></th>\n",
       "      <th>steps</th>\n",
       "      <th>flightsClimbed</th>\n",
       "    </tr>\n",
       "    <tr>\n",
       "      <th>date</th>\n",
       "      <th></th>\n",
       "      <th></th>\n",
       "    </tr>\n",
       "  </thead>\n",
       "  <tbody>\n",
       "    <tr>\n",
       "      <th>2018-04-09 00:00:00+02:00</th>\n",
       "      <td>912.0</td>\n",
       "      <td>2.0</td>\n",
       "    </tr>\n",
       "    <tr>\n",
       "      <th>2018-04-10 00:00:00+02:00</th>\n",
       "      <td>0.0</td>\n",
       "      <td>0.0</td>\n",
       "    </tr>\n",
       "    <tr>\n",
       "      <th>2018-04-11 00:00:00+02:00</th>\n",
       "      <td>0.0</td>\n",
       "      <td>0.0</td>\n",
       "    </tr>\n",
       "    <tr>\n",
       "      <th>2018-04-12 00:00:00+02:00</th>\n",
       "      <td>0.0</td>\n",
       "      <td>0.0</td>\n",
       "    </tr>\n",
       "    <tr>\n",
       "      <th>2018-04-13 00:00:00+02:00</th>\n",
       "      <td>0.0</td>\n",
       "      <td>0.0</td>\n",
       "    </tr>\n",
       "    <tr>\n",
       "      <th>...</th>\n",
       "      <td>...</td>\n",
       "      <td>...</td>\n",
       "    </tr>\n",
       "    <tr>\n",
       "      <th>2019-06-12 00:00:00+02:00</th>\n",
       "      <td>9505.0</td>\n",
       "      <td>10.0</td>\n",
       "    </tr>\n",
       "    <tr>\n",
       "      <th>2019-06-13 00:00:00+02:00</th>\n",
       "      <td>21560.0</td>\n",
       "      <td>11.0</td>\n",
       "    </tr>\n",
       "    <tr>\n",
       "      <th>2019-06-14 00:00:00+02:00</th>\n",
       "      <td>8168.0</td>\n",
       "      <td>7.0</td>\n",
       "    </tr>\n",
       "    <tr>\n",
       "      <th>2019-06-15 00:00:00+02:00</th>\n",
       "      <td>11045.0</td>\n",
       "      <td>9.0</td>\n",
       "    </tr>\n",
       "    <tr>\n",
       "      <th>2019-06-16 00:00:00+02:00</th>\n",
       "      <td>16.0</td>\n",
       "      <td>NaN</td>\n",
       "    </tr>\n",
       "  </tbody>\n",
       "</table>\n",
       "<p>434 rows × 2 columns</p>\n",
       "</div>"
      ],
      "text/plain": [
       "                             steps  flightsClimbed\n",
       "date                                              \n",
       "2018-04-09 00:00:00+02:00    912.0             2.0\n",
       "2018-04-10 00:00:00+02:00      0.0             0.0\n",
       "2018-04-11 00:00:00+02:00      0.0             0.0\n",
       "2018-04-12 00:00:00+02:00      0.0             0.0\n",
       "2018-04-13 00:00:00+02:00      0.0             0.0\n",
       "...                            ...             ...\n",
       "2019-06-12 00:00:00+02:00   9505.0            10.0\n",
       "2019-06-13 00:00:00+02:00  21560.0            11.0\n",
       "2019-06-14 00:00:00+02:00   8168.0             7.0\n",
       "2019-06-15 00:00:00+02:00  11045.0             9.0\n",
       "2019-06-16 00:00:00+02:00     16.0             NaN\n",
       "\n",
       "[434 rows x 2 columns]"
      ]
     },
     "execution_count": 552,
     "metadata": {},
     "output_type": "execute_result"
    }
   ],
   "source": [
    "inputs"
   ]
  },
  {
   "cell_type": "code",
   "execution_count": 562,
   "metadata": {},
   "outputs": [
    {
     "name": "stdout",
     "output_type": "stream",
     "text": [
      "418\n"
     ]
    }
   ],
   "source": [
    "# split into samples (e.g. 434/31 = 14)\n",
    "samples_inputs = list()\n",
    "samples_output = list()\n",
    "sample_length = 16\n",
    "# step over the timesteps in jumps of n_samples\n",
    "for i in range(0, n-sample_length):\n",
    "    # grab from i to i + sample_length\n",
    "    sample_inputs = inputs[i:i+sample_length]\n",
    "    samples_inputs.append(sample_inputs)\n",
    "    \n",
    "    sample_output = output[i:i+sample_length]\n",
    "    samples_output.append(sample_output)\n",
    "print(len(samples_inputs))"
   ]
  },
  {
   "cell_type": "code",
   "execution_count": 563,
   "metadata": {
    "scrolled": true
   },
   "outputs": [
    {
     "name": "stdout",
     "output_type": "stream",
     "text": [
      "(418, 16, 1)\n"
     ]
    }
   ],
   "source": [
    "# convert list of arrays into 2d array\n",
    "inputs = np.array(samples_inputs)\n",
    "output = np.array(samples_output)\n",
    "\n",
    "inputs = np.nan_to_num(inputs, nan=-1)\n",
    "output = np.nan_to_num(output, nan=72)\n",
    "\n",
    "# reshape into (samples, timesteps, features)\n",
    "output = output.reshape((-1, sample_length, 1)) #-1 samma som len(output). Betyder i princip \"lös det!\"\n",
    "print(output.shape)"
   ]
  },
  {
   "cell_type": "code",
   "execution_count": 564,
   "metadata": {},
   "outputs": [
    {
     "name": "stdout",
     "output_type": "stream",
     "text": [
      "(418, 16, 2)\n"
     ]
    }
   ],
   "source": [
    "\n",
    "\n",
    "# Mean values instad of 0\n",
    "feature1 = inputs[:,:,0]\n",
    "feature2 = inputs[:,:,1]\n",
    "feature1[feature1 == -1] = np.mean(feature1[feature1 != -1])\n",
    "feature2[feature2 == -1] = np.mean(feature1[feature2 != -1])\n",
    "inputs = np.stack([feature1, feature2], axis=2)\n",
    "print(inputs.shape)"
   ]
  },
  {
   "cell_type": "code",
   "execution_count": 565,
   "metadata": {},
   "outputs": [
    {
     "name": "stdout",
     "output_type": "stream",
     "text": [
      "(418, 16, 1)\n"
     ]
    }
   ],
   "source": [
    "print(output.shape)"
   ]
  },
  {
   "cell_type": "code",
   "execution_count": 585,
   "metadata": {},
   "outputs": [
    {
     "name": "stdout",
     "output_type": "stream",
     "text": [
      "Model: \"model_35\"\n",
      "_________________________________________________________________\n",
      " Layer (type)                Output Shape              Param #   \n",
      "=================================================================\n",
      " input_48 (InputLayer)       [(None, 16, 2)]           0         \n",
      "                                                                 \n",
      " batch_normalization_11 (Bat  (None, 16, 2)            8         \n",
      " chNormalization)                                                \n",
      "                                                                 \n",
      " conv1d_4 (Conv1D)           (None, 16, 32)            608       \n",
      "                                                                 \n",
      " dense_36 (Dense)            (None, 16, 1)             33        \n",
      "                                                                 \n",
      "=================================================================\n",
      "Total params: 649\n",
      "Trainable params: 645\n",
      "Non-trainable params: 4\n",
      "_________________________________________________________________\n"
     ]
    }
   ],
   "source": [
    "def model():\n",
    "    inpt = tf.keras.Input(shape=(16, 2))\n",
    "    x = tf.keras.layers.BatchNormalization()(inpt)\n",
    "    x = tf.keras.layers.Conv1D(32, 9, padding='same')(x) #32 är 32 filter som tränas, kan justeras. Helst binära tal. Kernel size måste vara udda, \"fönstrets storlek\", tänk faltning\n",
    "    #x = tf.keras.layers.MaxPooling1D(2)(x)\n",
    "    #x = tf.keras.layers.Bidirectional(tf.keras.layers.LSTM(32, return_sequences=True))(x) #Större än 32? Introducera recurrent dropout?\n",
    "    #Dropoutlager? Om risk för overfit\n",
    "    #Validation?\n",
    "    #Rmsprop istället för Adam?\n",
    "    y = tf.keras.layers.Dense(1, activation='relu')(x)\n",
    "    return tf.keras.Model(inputs=[inpt], outputs=[y])\n",
    "\n",
    "md = model()\n",
    "md.summary()"
   ]
  },
  {
   "cell_type": "code",
   "execution_count": 477,
   "metadata": {},
   "outputs": [
    {
     "data": {
      "text/plain": [
       "array([[[ 72.        ],\n",
       "        [ 72.        ],\n",
       "        [ 72.        ],\n",
       "        [ 72.        ],\n",
       "        [ 72.        ],\n",
       "        [ 72.        ],\n",
       "        [ 72.        ],\n",
       "        [ 72.46694215],\n",
       "        [ 77.06147541],\n",
       "        [ 73.29069767],\n",
       "        [ 74.68032787],\n",
       "        [ 73.54263566],\n",
       "        [ 72.07532051],\n",
       "        [ 69.60737179],\n",
       "        [ 72.11333333],\n",
       "        [ 68.46759259],\n",
       "        [ 69.45687646],\n",
       "        [ 68.36324786],\n",
       "        [ 72.27298851],\n",
       "        [ 69.21695402],\n",
       "        [ 79.21865443],\n",
       "        [115.68965517],\n",
       "        [ 76.58888889],\n",
       "        [ 83.46402878],\n",
       "        [ 73.09938838],\n",
       "        [ 69.16356108],\n",
       "        [ 64.09493671],\n",
       "        [ 65.70472441],\n",
       "        [ 68.657277  ],\n",
       "        [ 70.28551913],\n",
       "        [ 71.73097113]],\n",
       "\n",
       "       [[ 74.92279412],\n",
       "        [ 80.26691729],\n",
       "        [ 77.03571429],\n",
       "        [ 77.72380952],\n",
       "        [ 78.47916667],\n",
       "        [ 76.88888889],\n",
       "        [ 75.96831956],\n",
       "        [ 76.72222222],\n",
       "        [ 74.83974359],\n",
       "        [ 79.29032258],\n",
       "        [ 74.38317757],\n",
       "        [ 78.75210084],\n",
       "        [ 76.69483568],\n",
       "        [ 78.53333333],\n",
       "        [ 77.80426357],\n",
       "        [ 76.43684211],\n",
       "        [ 74.03097345],\n",
       "        [ 79.0840708 ],\n",
       "        [ 78.86956522],\n",
       "        [ 82.83974359],\n",
       "        [ 82.38571429],\n",
       "        [ 80.25468165],\n",
       "        [ 77.18076923],\n",
       "        [ 86.90163934],\n",
       "        [ 72.        ],\n",
       "        [ 72.        ],\n",
       "        [ 72.        ],\n",
       "        [ 72.55681818],\n",
       "        [ 76.515     ],\n",
       "        [ 75.72572178],\n",
       "        [ 80.85606061]],\n",
       "\n",
       "       [[ 76.95155039],\n",
       "        [ 75.32      ],\n",
       "        [ 76.87878788],\n",
       "        [ 74.61842105],\n",
       "        [ 74.89473684],\n",
       "        [ 79.2251462 ],\n",
       "        [ 78.01      ],\n",
       "        [ 74.44166667],\n",
       "        [ 75.73622047],\n",
       "        [ 77.03488372],\n",
       "        [ 72.89156627],\n",
       "        [ 78.06880734],\n",
       "        [ 81.99099099],\n",
       "        [ 79.64028777],\n",
       "        [ 81.        ],\n",
       "        [ 78.67757009],\n",
       "        [ 77.8490566 ],\n",
       "        [ 73.82051282],\n",
       "        [ 74.08333333],\n",
       "        [ 79.6875    ],\n",
       "        [ 76.03030303],\n",
       "        [ 69.85981308],\n",
       "        [ 70.26785714],\n",
       "        [ 76.975     ],\n",
       "        [ 72.05208333],\n",
       "        [ 75.72440945],\n",
       "        [ 77.06353591],\n",
       "        [ 72.475     ],\n",
       "        [ 69.78143713],\n",
       "        [ 69.32580645],\n",
       "        [ 68.89285714]],\n",
       "\n",
       "       [[ 70.55426357],\n",
       "        [ 76.09022556],\n",
       "        [ 73.42810458],\n",
       "        [ 72.73225806],\n",
       "        [ 77.7037037 ],\n",
       "        [ 78.17460317],\n",
       "        [ 79.13306452],\n",
       "        [ 74.86      ],\n",
       "        [ 74.5       ],\n",
       "        [ 77.98630137],\n",
       "        [ 71.81018519],\n",
       "        [ 70.71370968],\n",
       "        [ 76.78240741],\n",
       "        [ 72.40492958],\n",
       "        [ 72.93984962],\n",
       "        [ 70.25      ],\n",
       "        [ 72.67164179],\n",
       "        [ 79.03252033],\n",
       "        [ 72.19354839],\n",
       "        [ 75.62418301],\n",
       "        [ 74.68085106],\n",
       "        [ 77.12230216],\n",
       "        [ 75.68846154],\n",
       "        [ 80.69473684],\n",
       "        [ 80.22321429],\n",
       "        [ 72.76495726],\n",
       "        [ 74.05797101],\n",
       "        [ 75.42592593],\n",
       "        [ 78.90833333],\n",
       "        [ 75.40300546],\n",
       "        [ 80.94444444]],\n",
       "\n",
       "       [[ 69.70618557],\n",
       "        [ 67.73979592],\n",
       "        [ 73.09281437],\n",
       "        [ 74.99186992],\n",
       "        [ 71.78448276],\n",
       "        [ 74.6       ],\n",
       "        [ 75.28688525],\n",
       "        [ 70.95833333],\n",
       "        [ 73.03289474],\n",
       "        [ 71.48106061],\n",
       "        [ 79.28195489],\n",
       "        [ 78.30076628],\n",
       "        [ 79.32352941],\n",
       "        [ 69.1689038 ],\n",
       "        [ 73.61971831],\n",
       "        [ 74.86160714],\n",
       "        [ 72.67708333],\n",
       "        [ 80.13297872],\n",
       "        [ 75.085     ],\n",
       "        [ 76.734375  ],\n",
       "        [ 76.53453453],\n",
       "        [ 73.86554622],\n",
       "        [ 71.37946429],\n",
       "        [ 74.9526749 ],\n",
       "        [ 74.375     ],\n",
       "        [ 74.7804878 ],\n",
       "        [ 79.25688073],\n",
       "        [ 75.01790634],\n",
       "        [ 74.8375    ],\n",
       "        [ 67.97878788],\n",
       "        [ 71.25      ]],\n",
       "\n",
       "       [[ 68.83928571],\n",
       "        [ 67.90625   ],\n",
       "        [ 73.06741573],\n",
       "        [ 73.21100917],\n",
       "        [ 69.03515625],\n",
       "        [ 71.48525074],\n",
       "        [ 76.52970297],\n",
       "        [ 75.41463415],\n",
       "        [ 75.33333333],\n",
       "        [ 76.68238994],\n",
       "        [ 73.90254237],\n",
       "        [ 74.05014749],\n",
       "        [ 68.17521368],\n",
       "        [ 70.98648649],\n",
       "        [ 72.04824561],\n",
       "        [ 67.76818182],\n",
       "        [ 74.07051282],\n",
       "        [ 78.9375    ],\n",
       "        [ 69.43055556],\n",
       "        [ 72.        ],\n",
       "        [ 69.80630631],\n",
       "        [ 70.59795322],\n",
       "        [ 71.5615942 ],\n",
       "        [ 71.09139785],\n",
       "        [ 71.99659864],\n",
       "        [ 70.01      ],\n",
       "        [ 70.25274725],\n",
       "        [ 77.84117647],\n",
       "        [ 70.74609375],\n",
       "        [ 71.06432749],\n",
       "        [ 71.25      ]],\n",
       "\n",
       "       [[ 70.74056604],\n",
       "        [ 76.27099237],\n",
       "        [ 70.90151515],\n",
       "        [ 68.05633803],\n",
       "        [ 77.44265233],\n",
       "        [ 69.13305322],\n",
       "        [ 74.93243243],\n",
       "        [ 67.29615385],\n",
       "        [ 72.        ],\n",
       "        [ 70.88541667],\n",
       "        [ 73.84615385],\n",
       "        [ 72.34466019],\n",
       "        [ 67.34299517],\n",
       "        [ 72.30068729],\n",
       "        [ 72.73913043],\n",
       "        [ 69.55909091],\n",
       "        [ 66.23333333],\n",
       "        [ 68.10454545],\n",
       "        [ 68.55808081],\n",
       "        [ 69.04365079],\n",
       "        [ 76.32649854],\n",
       "        [ 75.01754386],\n",
       "        [ 71.43518519],\n",
       "        [ 70.335     ],\n",
       "        [ 70.08712121],\n",
       "        [ 70.73853211],\n",
       "        [ 68.41666667],\n",
       "        [ 72.        ],\n",
       "        [ 72.        ],\n",
       "        [ 72.        ],\n",
       "        [ 72.        ]],\n",
       "\n",
       "       [[ 72.        ],\n",
       "        [ 72.        ],\n",
       "        [ 72.        ],\n",
       "        [ 72.        ],\n",
       "        [ 76.20512821],\n",
       "        [ 76.38888889],\n",
       "        [ 74.02586207],\n",
       "        [ 71.89903846],\n",
       "        [ 72.23669468],\n",
       "        [ 68.69834711],\n",
       "        [ 72.87179487],\n",
       "        [ 74.02040816],\n",
       "        [ 71.77581121],\n",
       "        [ 67.69548872],\n",
       "        [ 71.56456456],\n",
       "        [ 74.48873874],\n",
       "        [ 68.39655172],\n",
       "        [ 70.39528024],\n",
       "        [ 72.21311475],\n",
       "        [ 74.875     ],\n",
       "        [ 72.        ],\n",
       "        [ 72.        ],\n",
       "        [ 72.        ],\n",
       "        [ 72.        ],\n",
       "        [ 72.        ],\n",
       "        [ 72.        ],\n",
       "        [ 72.        ],\n",
       "        [ 72.        ],\n",
       "        [ 72.        ],\n",
       "        [ 72.        ],\n",
       "        [ 72.        ]],\n",
       "\n",
       "       [[ 72.        ],\n",
       "        [ 72.57216495],\n",
       "        [ 68.96634615],\n",
       "        [ 70.34265734],\n",
       "        [ 71.38643068],\n",
       "        [ 74.07291667],\n",
       "        [ 71.59016393],\n",
       "        [ 73.90217391],\n",
       "        [ 71.77941176],\n",
       "        [ 72.        ],\n",
       "        [ 72.        ],\n",
       "        [ 72.        ],\n",
       "        [ 72.        ],\n",
       "        [ 66.10457516],\n",
       "        [ 73.92424242],\n",
       "        [ 71.14772727],\n",
       "        [ 66.06081081],\n",
       "        [ 72.        ],\n",
       "        [ 69.96124031],\n",
       "        [ 72.        ],\n",
       "        [ 69.86597938],\n",
       "        [ 72.3364486 ],\n",
       "        [ 70.46825397],\n",
       "        [ 71.50531915],\n",
       "        [ 73.45238095],\n",
       "        [ 74.44370861],\n",
       "        [ 79.88588589],\n",
       "        [ 73.7295082 ],\n",
       "        [ 73.20967742],\n",
       "        [ 70.00806452],\n",
       "        [ 72.33628319]],\n",
       "\n",
       "       [[ 70.2815534 ],\n",
       "        [ 96.0942029 ],\n",
       "        [ 72.03843277],\n",
       "        [ 65.04201681],\n",
       "        [ 70.53409091],\n",
       "        [ 90.35337243],\n",
       "        [ 73.29411765],\n",
       "        [ 76.26190476],\n",
       "        [ 73.18810657],\n",
       "        [ 70.66383026],\n",
       "        [ 97.22252954],\n",
       "        [ 70.95925926],\n",
       "        [ 69.00705312],\n",
       "        [ 70.14102327],\n",
       "        [ 83.69230769],\n",
       "        [137.66139832],\n",
       "        [ 99.61469933],\n",
       "        [ 70.26377953],\n",
       "        [ 72.2480315 ],\n",
       "        [ 75.76190476],\n",
       "        [ 65.375     ],\n",
       "        [ 68.26168224],\n",
       "        [144.8523416 ],\n",
       "        [102.76658163],\n",
       "        [ 67.18852459],\n",
       "        [ 71.66461485],\n",
       "        [102.304941  ],\n",
       "        [ 68.        ],\n",
       "        [ 72.        ],\n",
       "        [147.49239544],\n",
       "        [ 96.06188952]],\n",
       "\n",
       "       [[ 99.29651163],\n",
       "        [ 72.352     ],\n",
       "        [ 73.45595238],\n",
       "        [ 97.9702381 ],\n",
       "        [104.84811828],\n",
       "        [136.56633499],\n",
       "        [ 92.65507246],\n",
       "        [ 67.50872206],\n",
       "        [ 69.19399969],\n",
       "        [ 94.9137931 ],\n",
       "        [109.71768707],\n",
       "        [ 92.27644726],\n",
       "        [127.29470529],\n",
       "        [ 89.26964242],\n",
       "        [ 67.73068433],\n",
       "        [112.42196998],\n",
       "        [ 71.76962774],\n",
       "        [102.50590287],\n",
       "        [ 96.7090986 ],\n",
       "        [140.4857997 ],\n",
       "        [ 91.48994975],\n",
       "        [ 71.77440629],\n",
       "        [ 69.92622951],\n",
       "        [ 71.97727353],\n",
       "        [140.3426148 ],\n",
       "        [ 96.1285612 ],\n",
       "        [123.09612946],\n",
       "        [100.65298774],\n",
       "        [ 85.67372881],\n",
       "        [141.70569607],\n",
       "        [ 98.89395702]],\n",
       "\n",
       "       [[143.6578125 ],\n",
       "        [130.64732525],\n",
       "        [100.64658488],\n",
       "        [106.41380887],\n",
       "        [ 68.57189542],\n",
       "        [138.90860215],\n",
       "        [108.74632118],\n",
       "        [146.14118565],\n",
       "        [ 95.82778652],\n",
       "        [ 72.        ],\n",
       "        [ 65.16666667],\n",
       "        [ 75.74358974],\n",
       "        [105.77156863],\n",
       "        [ 98.05776173],\n",
       "        [108.00982351],\n",
       "        [ 69.09753802],\n",
       "        [138.46897033],\n",
       "        [ 73.01086957],\n",
       "        [138.98657676],\n",
       "        [ 71.98518519],\n",
       "        [ 82.99097473],\n",
       "        [137.6579091 ],\n",
       "        [ 73.17226891],\n",
       "        [136.88879004],\n",
       "        [ 89.12345679],\n",
       "        [ 67.1221374 ],\n",
       "        [138.67647059],\n",
       "        [ 71.33214286],\n",
       "        [ 73.45985401],\n",
       "        [127.18147208],\n",
       "        [134.21194228]],\n",
       "\n",
       "       [[ 74.7840224 ],\n",
       "        [ 75.001475  ],\n",
       "        [ 76.21969697],\n",
       "        [ 72.37366667],\n",
       "        [ 72.8       ],\n",
       "        [ 73.63366337],\n",
       "        [ 93.97488584],\n",
       "        [115.43014706],\n",
       "        [ 77.57845617],\n",
       "        [ 72.89615385],\n",
       "        [ 71.94323671],\n",
       "        [ 80.71774194],\n",
       "        [ 67.59857419],\n",
       "        [136.23584906],\n",
       "        [ 74.26030928],\n",
       "        [138.00078125],\n",
       "        [139.54344512],\n",
       "        [ 70.81053095],\n",
       "        [140.76176024],\n",
       "        [111.73504274],\n",
       "        [134.90824468],\n",
       "        [ 69.64957265],\n",
       "        [ 72.74515811],\n",
       "        [ 69.671875  ],\n",
       "        [ 72.34023871],\n",
       "        [112.37040347],\n",
       "        [139.92766602],\n",
       "        [135.28846154],\n",
       "        [ 72.8       ],\n",
       "        [ 72.54074074],\n",
       "        [ 77.06243886]],\n",
       "\n",
       "       [[ 72.29323308],\n",
       "        [125.6819217 ],\n",
       "        [ 72.93393393],\n",
       "        [148.11700844],\n",
       "        [ 76.02192982],\n",
       "        [ 70.91260086],\n",
       "        [126.9993068 ],\n",
       "        [ 72.99995752],\n",
       "        [ 70.81923077],\n",
       "        [106.77467397],\n",
       "        [135.28636542],\n",
       "        [ 74.34651301],\n",
       "        [ 73.67584286],\n",
       "        [122.88119835],\n",
       "        [ 91.39023056],\n",
       "        [ 72.34704094],\n",
       "        [ 73.72      ],\n",
       "        [143.42772861],\n",
       "        [ 73.62056738],\n",
       "        [ 73.99802019],\n",
       "        [ 72.        ],\n",
       "        [122.49471508],\n",
       "        [ 67.11403509],\n",
       "        [ 67.05426357],\n",
       "        [144.36379081],\n",
       "        [ 71.9214876 ],\n",
       "        [ 82.11764706],\n",
       "        [137.14095372],\n",
       "        [ 77.70491803],\n",
       "        [123.29987047],\n",
       "        [ 72.        ]]])"
      ]
     },
     "execution_count": 477,
     "metadata": {},
     "output_type": "execute_result"
    }
   ],
   "source": [
    "output"
   ]
  },
  {
   "cell_type": "code",
   "execution_count": 586,
   "metadata": {},
   "outputs": [],
   "source": [
    "#adam = tf.keras.optimizers.Adam(1e-4) \n",
    "md.compile('adam', loss=\"mse\") #mae istället? Lägre siffra i regel, inte nödväntdigtvis bättre"
   ]
  },
  {
   "cell_type": "code",
   "execution_count": 587,
   "metadata": {},
   "outputs": [
    {
     "name": "stdout",
     "output_type": "stream",
     "text": [
      "Epoch 1/35\n",
      "105/105 [==============================] - 1s 2ms/step - loss: 6641.5469\n",
      "Epoch 2/35\n",
      "105/105 [==============================] - 0s 2ms/step - loss: 5705.9238\n",
      "Epoch 3/35\n",
      "105/105 [==============================] - 0s 2ms/step - loss: 3467.0747\n",
      "Epoch 4/35\n",
      "105/105 [==============================] - 0s 2ms/step - loss: 1374.7355\n",
      "Epoch 5/35\n",
      "105/105 [==============================] - 0s 2ms/step - loss: 961.7634\n",
      "Epoch 6/35\n",
      "105/105 [==============================] - 0s 2ms/step - loss: 843.9691\n",
      "Epoch 7/35\n",
      "105/105 [==============================] - 0s 2ms/step - loss: 747.3937\n",
      "Epoch 8/35\n",
      "105/105 [==============================] - 0s 2ms/step - loss: 703.8181\n",
      "Epoch 9/35\n",
      "105/105 [==============================] - 0s 2ms/step - loss: 655.8438\n",
      "Epoch 10/35\n",
      "105/105 [==============================] - 0s 2ms/step - loss: 631.5216\n",
      "Epoch 11/35\n",
      "105/105 [==============================] - 0s 2ms/step - loss: 602.3832\n",
      "Epoch 12/35\n",
      "105/105 [==============================] - 0s 2ms/step - loss: 570.1288\n",
      "Epoch 13/35\n",
      "105/105 [==============================] - 0s 2ms/step - loss: 548.1164\n",
      "Epoch 14/35\n",
      "105/105 [==============================] - 0s 2ms/step - loss: 523.8237\n",
      "Epoch 15/35\n",
      "105/105 [==============================] - 0s 3ms/step - loss: 508.6184\n",
      "Epoch 16/35\n",
      "105/105 [==============================] - 0s 3ms/step - loss: 493.1819\n",
      "Epoch 17/35\n",
      "105/105 [==============================] - 0s 3ms/step - loss: 481.9722\n",
      "Epoch 18/35\n",
      "105/105 [==============================] - 0s 3ms/step - loss: 458.5634\n",
      "Epoch 19/35\n",
      "105/105 [==============================] - 0s 3ms/step - loss: 447.7000\n",
      "Epoch 20/35\n",
      "105/105 [==============================] - 0s 3ms/step - loss: 432.5710\n",
      "Epoch 21/35\n",
      "105/105 [==============================] - 0s 3ms/step - loss: 423.2535\n",
      "Epoch 22/35\n",
      "105/105 [==============================] - 0s 3ms/step - loss: 419.4965\n",
      "Epoch 23/35\n",
      "105/105 [==============================] - 0s 4ms/step - loss: 401.8089\n",
      "Epoch 24/35\n",
      "105/105 [==============================] - 0s 3ms/step - loss: 397.4341\n",
      "Epoch 25/35\n",
      "105/105 [==============================] - 0s 3ms/step - loss: 391.8862\n",
      "Epoch 26/35\n",
      "105/105 [==============================] - 0s 3ms/step - loss: 385.3679\n",
      "Epoch 27/35\n",
      "105/105 [==============================] - 0s 3ms/step - loss: 380.1759\n",
      "Epoch 28/35\n",
      "105/105 [==============================] - 0s 3ms/step - loss: 375.7667\n",
      "Epoch 29/35\n",
      "105/105 [==============================] - 0s 3ms/step - loss: 375.4406\n",
      "Epoch 30/35\n",
      "105/105 [==============================] - 0s 3ms/step - loss: 374.5466\n",
      "Epoch 31/35\n",
      "105/105 [==============================] - 0s 4ms/step - loss: 367.2526\n",
      "Epoch 32/35\n",
      "105/105 [==============================] - 0s 3ms/step - loss: 368.1223\n",
      "Epoch 33/35\n",
      "105/105 [==============================] - 0s 4ms/step - loss: 366.4126\n",
      "Epoch 34/35\n",
      "105/105 [==============================] - 0s 3ms/step - loss: 363.1504\n",
      "Epoch 35/35\n",
      "105/105 [==============================] - 0s 3ms/step - loss: 366.0732\n"
     ]
    },
    {
     "data": {
      "text/plain": [
       "<keras.callbacks.History at 0x2af0b135e20>"
      ]
     },
     "execution_count": 587,
     "metadata": {},
     "output_type": "execute_result"
    }
   ],
   "source": [
    "md.fit(inputs, output, batch_size=4, epochs=35, verbose=1) #Batch size nånstans 1-16. Stabilt med många, konvergerar fortare med få"
   ]
  },
  {
   "cell_type": "code",
   "execution_count": 581,
   "metadata": {},
   "outputs": [
    {
     "data": {
      "text/plain": [
       "array([[[62.819046],\n",
       "        [69.59464 ],\n",
       "        [73.28349 ],\n",
       "        [73.79755 ],\n",
       "        [77.33562 ],\n",
       "        [84.30829 ],\n",
       "        [85.662155],\n",
       "        [88.20138 ],\n",
       "        [88.57529 ],\n",
       "        [84.02397 ],\n",
       "        [89.84069 ],\n",
       "        [88.72784 ],\n",
       "        [84.7651  ],\n",
       "        [86.73361 ],\n",
       "        [84.58413 ],\n",
       "        [71.78073 ]]], dtype=float32)"
      ]
     },
     "execution_count": 581,
     "metadata": {},
     "output_type": "execute_result"
    }
   ],
   "source": [
    "md.predict(inputs[2].reshape(1, 16, 2))"
   ]
  },
  {
   "cell_type": "code",
   "execution_count": 582,
   "metadata": {},
   "outputs": [
    {
     "data": {
      "text/plain": [
       "array([[72.        ],\n",
       "       [72.        ],\n",
       "       [72.        ],\n",
       "       [72.        ],\n",
       "       [72.        ],\n",
       "       [72.46694215],\n",
       "       [77.06147541],\n",
       "       [73.29069767],\n",
       "       [74.68032787],\n",
       "       [73.54263566],\n",
       "       [72.07532051],\n",
       "       [69.60737179],\n",
       "       [72.11333333],\n",
       "       [68.46759259],\n",
       "       [69.45687646],\n",
       "       [68.36324786]])"
      ]
     },
     "execution_count": 582,
     "metadata": {},
     "output_type": "execute_result"
    }
   ],
   "source": [
    "output[2]"
   ]
  }
 ],
 "metadata": {
  "kernelspec": {
   "display_name": "Python 3 (ipykernel)",
   "language": "python",
   "name": "python3"
  },
  "language_info": {
   "codemirror_mode": {
    "name": "ipython",
    "version": 3
   },
   "file_extension": ".py",
   "mimetype": "text/x-python",
   "name": "python",
   "nbconvert_exporter": "python",
   "pygments_lexer": "ipython3",
   "version": "3.9.7"
  }
 },
 "nbformat": 4,
 "nbformat_minor": 4
}
