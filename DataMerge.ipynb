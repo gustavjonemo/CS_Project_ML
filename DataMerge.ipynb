{
 "cells": [
  {
   "cell_type": "code",
   "execution_count": 1,
   "metadata": {},
   "outputs": [],
   "source": [
    "import xmltodict"
   ]
  },
  {
   "cell_type": "code",
   "execution_count": 2,
   "metadata": {},
   "outputs": [
    {
     "name": "stdout",
     "output_type": "stream",
     "text": [
      "AnalyseAppleWatch.R       \u001b[34mSweVAD\u001b[m\u001b[m                    \u001b[34mapple_health_export_A_tp2\u001b[m\u001b[m\n",
      "DataMerge.ipynb           appleWatchExample.zip     exportAC67.zip\n",
      "\u001b[34mNIHP\u001b[m\u001b[m                      \u001b[34mapple_health_export\u001b[m\u001b[m       heartrate.csv\n",
      "\u001b[34mPancreas\u001b[m\u001b[m                  \u001b[34mapple_health_export 2\u001b[m\u001b[m\n"
     ]
    }
   ],
   "source": [
    "!ls"
   ]
  },
  {
   "cell_type": "code",
   "execution_count": 3,
   "metadata": {},
   "outputs": [
    {
     "name": "stdout",
     "output_type": "stream",
     "text": [
      "\u001b[34melectrocardiograms\u001b[m\u001b[m export.xml         export_cda.xml\n"
     ]
    }
   ],
   "source": [
    "!ls apple_health_export\\ 2"
   ]
  },
  {
   "cell_type": "code",
   "execution_count": 4,
   "metadata": {},
   "outputs": [],
   "source": [
    "items = xmltodict.parse(open(\"apple_health_export 2/export.xml\", \"rb\"))"
   ]
  },
  {
   "cell_type": "code",
   "execution_count": 5,
   "metadata": {},
   "outputs": [
    {
     "data": {
      "text/plain": [
       "1"
      ]
     },
     "execution_count": 5,
     "metadata": {},
     "output_type": "execute_result"
    }
   ],
   "source": [
    "len(items)"
   ]
  },
  {
   "cell_type": "code",
   "execution_count": 6,
   "metadata": {},
   "outputs": [
    {
     "data": {
      "text/plain": [
       "odict_keys(['HealthData'])"
      ]
     },
     "execution_count": 6,
     "metadata": {},
     "output_type": "execute_result"
    }
   ],
   "source": [
    "items.keys()"
   ]
  },
  {
   "cell_type": "code",
   "execution_count": 7,
   "metadata": {},
   "outputs": [
    {
     "data": {
      "text/plain": [
       "6"
      ]
     },
     "execution_count": 7,
     "metadata": {},
     "output_type": "execute_result"
    }
   ],
   "source": [
    "len(items[\"HealthData\"])"
   ]
  },
  {
   "cell_type": "code",
   "execution_count": 8,
   "metadata": {},
   "outputs": [
    {
     "data": {
      "text/plain": [
       "odict_keys(['@locale', 'ExportDate', 'Me', 'Record', 'Workout', 'ActivitySummary'])"
      ]
     },
     "execution_count": 8,
     "metadata": {},
     "output_type": "execute_result"
    }
   ],
   "source": [
    "items[\"HealthData\"].keys()"
   ]
  },
  {
   "cell_type": "code",
   "execution_count": 9,
   "metadata": {},
   "outputs": [],
   "source": [
    "from IPython.display import JSON"
   ]
  },
  {
   "cell_type": "code",
   "execution_count": 10,
   "metadata": {},
   "outputs": [
    {
     "data": {
      "text/plain": [
       "424490"
      ]
     },
     "execution_count": 10,
     "metadata": {},
     "output_type": "execute_result"
    }
   ],
   "source": [
    "len(items[\"HealthData\"][\"Record\"])"
   ]
  },
  {
   "cell_type": "code",
   "execution_count": 11,
   "metadata": {},
   "outputs": [],
   "source": [
    "keys = set()\n",
    "for record in items[\"HealthData\"][\"Record\"]:\n",
    "    keys.add(record[\"@type\"])"
   ]
  },
  {
   "cell_type": "code",
   "execution_count": 12,
   "metadata": {},
   "outputs": [
    {
     "data": {
      "text/plain": [
       "{'HKCategoryTypeIdentifierAppleStandHour',\n",
       " 'HKQuantityTypeIdentifierActiveEnergyBurned',\n",
       " 'HKQuantityTypeIdentifierAppleExerciseTime',\n",
       " 'HKQuantityTypeIdentifierAppleStandTime',\n",
       " 'HKQuantityTypeIdentifierBasalEnergyBurned',\n",
       " 'HKQuantityTypeIdentifierBodyMass',\n",
       " 'HKQuantityTypeIdentifierDistanceWalkingRunning',\n",
       " 'HKQuantityTypeIdentifierFlightsClimbed',\n",
       " 'HKQuantityTypeIdentifierHeartRate',\n",
       " 'HKQuantityTypeIdentifierHeartRateVariabilitySDNN',\n",
       " 'HKQuantityTypeIdentifierHeight',\n",
       " 'HKQuantityTypeIdentifierRestingHeartRate',\n",
       " 'HKQuantityTypeIdentifierSixMinuteWalkTestDistance',\n",
       " 'HKQuantityTypeIdentifierStairAscentSpeed',\n",
       " 'HKQuantityTypeIdentifierStairDescentSpeed',\n",
       " 'HKQuantityTypeIdentifierStepCount',\n",
       " 'HKQuantityTypeIdentifierVO2Max',\n",
       " 'HKQuantityTypeIdentifierWalkingAsymmetryPercentage',\n",
       " 'HKQuantityTypeIdentifierWalkingDoubleSupportPercentage',\n",
       " 'HKQuantityTypeIdentifierWalkingHeartRateAverage',\n",
       " 'HKQuantityTypeIdentifierWalkingSpeed',\n",
       " 'HKQuantityTypeIdentifierWalkingStepLength'}"
      ]
     },
     "execution_count": 12,
     "metadata": {},
     "output_type": "execute_result"
    }
   ],
   "source": [
    "keys"
   ]
  },
  {
   "cell_type": "code",
   "execution_count": 13,
   "metadata": {},
   "outputs": [],
   "source": [
    "import pandas as pd"
   ]
  },
  {
   "cell_type": "code",
   "execution_count": 18,
   "metadata": {},
   "outputs": [],
   "source": [
    "def toSeries(records, typedef, column, merge=\"mean\", gran=\"D\"):\n",
    "    heartRateSeries = list(filter(lambda t: t[\"@type\"] == typedef, records))\n",
    "    d = pd.DataFrame(list(map(lambda d: (d[\"@startDate\"], float(d[\"@value\"])), heartRateSeries)), columns=[\"timestamp\", column])\n",
    "    d[\"timestamp\"] = pd.to_datetime(d[\"timestamp\"], infer_datetime_format=True)\n",
    "    d.set_index(pd.DatetimeIndex(d['timestamp']))\n",
    "    \n",
    "    if merge == \"sum\":\n",
    "        rs = d.resample(gran, on=\"timestamp\").sum()\n",
    "    else:        \n",
    "        rs = d.resample(gran, on=\"timestamp\").mean()\n",
    "    return rs"
   ]
  },
  {
   "cell_type": "code",
   "execution_count": 23,
   "metadata": {},
   "outputs": [],
   "source": [
    "gran = \"60min\" # gran = \"D\"\n",
    "d1 = toSeries(items[\"HealthData\"][\"Record\"], \"HKQuantityTypeIdentifierHeartRate\", \"heartRate\", gran=gran)\n",
    "d2 = toSeries(items[\"HealthData\"][\"Record\"], \"HKQuantityTypeIdentifierActiveEnergyBurned\", \"activeEnergyBurned\", gran=gran)\n",
    "d3 = toSeries(items[\"HealthData\"][\"Record\"], \"HKQuantityTypeIdentifierFlightsClimbed\", \"climbed\", merge=\"sum\", gran=gran)"
   ]
  },
  {
   "cell_type": "code",
   "execution_count": 24,
   "metadata": {},
   "outputs": [],
   "source": [
    "def mergeByTimestamp(dfs):\n",
    "    if len(dfs) == 0:\n",
    "        raise ValueError(\"Empty!\")\n",
    "        \n",
    "    if len(dfs) == 1:\n",
    "        return dfs[0]\n",
    "    \n",
    "    if len(dfs) >= 2:\n",
    "        current = dfs[0]\n",
    "        for i in range(1,len(dfs)):\n",
    "            current = pd.merge_ordered(current, dfs[i], on=\"timestamp\")\n",
    "        \n",
    "        return current"
   ]
  },
  {
   "cell_type": "code",
   "execution_count": 27,
   "metadata": {},
   "outputs": [
    {
     "data": {
      "text/html": [
       "<div>\n",
       "<style scoped>\n",
       "    .dataframe tbody tr th:only-of-type {\n",
       "        vertical-align: middle;\n",
       "    }\n",
       "\n",
       "    .dataframe tbody tr th {\n",
       "        vertical-align: top;\n",
       "    }\n",
       "\n",
       "    .dataframe thead th {\n",
       "        text-align: right;\n",
       "    }\n",
       "</style>\n",
       "<table border=\"1\" class=\"dataframe\">\n",
       "  <thead>\n",
       "    <tr style=\"text-align: right;\">\n",
       "      <th></th>\n",
       "      <th>timestamp</th>\n",
       "      <th>heartRate</th>\n",
       "      <th>activeEnergyBurned</th>\n",
       "      <th>climbed</th>\n",
       "    </tr>\n",
       "  </thead>\n",
       "  <tbody>\n",
       "    <tr>\n",
       "      <th>0</th>\n",
       "      <td>2020-11-27 11:00:00+01:00</td>\n",
       "      <td>NaN</td>\n",
       "      <td>0.097000</td>\n",
       "      <td>NaN</td>\n",
       "    </tr>\n",
       "    <tr>\n",
       "      <th>1</th>\n",
       "      <td>2020-11-27 12:00:00+01:00</td>\n",
       "      <td>71.000000</td>\n",
       "      <td>0.076500</td>\n",
       "      <td>NaN</td>\n",
       "    </tr>\n",
       "    <tr>\n",
       "      <th>2</th>\n",
       "      <td>2020-11-27 13:00:00+01:00</td>\n",
       "      <td>NaN</td>\n",
       "      <td>NaN</td>\n",
       "      <td>NaN</td>\n",
       "    </tr>\n",
       "    <tr>\n",
       "      <th>3</th>\n",
       "      <td>2020-11-27 14:00:00+01:00</td>\n",
       "      <td>NaN</td>\n",
       "      <td>NaN</td>\n",
       "      <td>NaN</td>\n",
       "    </tr>\n",
       "    <tr>\n",
       "      <th>4</th>\n",
       "      <td>2020-11-27 15:00:00+01:00</td>\n",
       "      <td>NaN</td>\n",
       "      <td>NaN</td>\n",
       "      <td>NaN</td>\n",
       "    </tr>\n",
       "    <tr>\n",
       "      <th>...</th>\n",
       "      <td>...</td>\n",
       "      <td>...</td>\n",
       "      <td>...</td>\n",
       "      <td>...</td>\n",
       "    </tr>\n",
       "    <tr>\n",
       "      <th>8304</th>\n",
       "      <td>2021-11-08 11:00:00+01:00</td>\n",
       "      <td>66.750000</td>\n",
       "      <td>0.407698</td>\n",
       "      <td>0.0</td>\n",
       "    </tr>\n",
       "    <tr>\n",
       "      <th>8305</th>\n",
       "      <td>2021-11-08 12:00:00+01:00</td>\n",
       "      <td>69.333333</td>\n",
       "      <td>0.483846</td>\n",
       "      <td>0.0</td>\n",
       "    </tr>\n",
       "    <tr>\n",
       "      <th>8306</th>\n",
       "      <td>2021-11-08 13:00:00+01:00</td>\n",
       "      <td>79.571429</td>\n",
       "      <td>0.556700</td>\n",
       "      <td>1.0</td>\n",
       "    </tr>\n",
       "    <tr>\n",
       "      <th>8307</th>\n",
       "      <td>2021-11-08 14:00:00+01:00</td>\n",
       "      <td>81.896552</td>\n",
       "      <td>0.652333</td>\n",
       "      <td>1.0</td>\n",
       "    </tr>\n",
       "    <tr>\n",
       "      <th>8308</th>\n",
       "      <td>2021-11-08 15:00:00+01:00</td>\n",
       "      <td>74.000000</td>\n",
       "      <td>0.565500</td>\n",
       "      <td>NaN</td>\n",
       "    </tr>\n",
       "  </tbody>\n",
       "</table>\n",
       "<p>8309 rows × 4 columns</p>\n",
       "</div>"
      ],
      "text/plain": [
       "                     timestamp  heartRate  activeEnergyBurned  climbed\n",
       "0    2020-11-27 11:00:00+01:00        NaN            0.097000      NaN\n",
       "1    2020-11-27 12:00:00+01:00  71.000000            0.076500      NaN\n",
       "2    2020-11-27 13:00:00+01:00        NaN                 NaN      NaN\n",
       "3    2020-11-27 14:00:00+01:00        NaN                 NaN      NaN\n",
       "4    2020-11-27 15:00:00+01:00        NaN                 NaN      NaN\n",
       "...                        ...        ...                 ...      ...\n",
       "8304 2021-11-08 11:00:00+01:00  66.750000            0.407698      0.0\n",
       "8305 2021-11-08 12:00:00+01:00  69.333333            0.483846      0.0\n",
       "8306 2021-11-08 13:00:00+01:00  79.571429            0.556700      1.0\n",
       "8307 2021-11-08 14:00:00+01:00  81.896552            0.652333      1.0\n",
       "8308 2021-11-08 15:00:00+01:00  74.000000            0.565500      NaN\n",
       "\n",
       "[8309 rows x 4 columns]"
      ]
     },
     "execution_count": 27,
     "metadata": {},
     "output_type": "execute_result"
    }
   ],
   "source": [
    "df = mergeByTimestamp([d1, d2, d3])\n",
    "df"
   ]
  },
  {
   "cell_type": "code",
   "execution_count": 28,
   "metadata": {},
   "outputs": [
    {
     "data": {
      "text/plain": [
       "<AxesSubplot:>"
      ]
     },
     "execution_count": 28,
     "metadata": {},
     "output_type": "execute_result"
    },
    {
     "data": {
      "image/png": "[encoded data removed]",
      "text/plain": [
       "<Figure size 432x288 with 1 Axes>"
      ]
     },
     "metadata": {
      "needs_background": "light"
     },
     "output_type": "display_data"
    }
   ],
   "source": [
    "df[\"heartRate\"].plot()"
   ]
  },
  {
   "cell_type": "code",
   "execution_count": null,
   "metadata": {},
   "outputs": [],
   "source": []
  }
 ],
 "metadata": {
  "kernelspec": {
   "display_name": "Python 3 (ipykernel)",
   "language": "python",
   "name": "python3"
  },
  "language_info": {
   "codemirror_mode": {
    "name": "ipython",
    "version": 3
   },
   "file_extension": ".py",
   "mimetype": "text/x-python",
   "name": "python",
   "nbconvert_exporter": "python",
   "pygments_lexer": "ipython3",
   "version": "3.9.7"
  }
 },
 "nbformat": 4,
 "nbformat_minor": 4
}
