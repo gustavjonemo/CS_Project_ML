{
 "cells": [
  {
   "cell_type": "code",
   "execution_count": 15,
   "metadata": {},
   "outputs": [],
   "source": [
    "import tensorflow as tf"
   ]
  },
  {
   "cell_type": "code",
   "execution_count": 70,
   "metadata": {},
   "outputs": [],
   "source": [
    "def model():\n",
    "    inpt = tf.keras.Input(shape=(None,24,2))\n",
    "    compression_layer = tf.keras.layers.LSTM(16)\n",
    "    x = tf.keras.layers.TimeDistributed(compression_layer)(inpt)\n",
    "    x = tf.keras.layers.LSTM(32, return_sequences=False)(x)\n",
    "    y = tf.keras.layers.Dense(1)(x)\n",
    "    return tf.keras.Model(inputs=[inpt], outputs=[y])"
   ]
  },
  {
   "cell_type": "code",
   "execution_count": 71,
   "metadata": {},
   "outputs": [],
   "source": [
    "md = model()"
   ]
  },
  {
   "cell_type": "code",
   "execution_count": 72,
   "metadata": {},
   "outputs": [
    {
     "name": "stdout",
     "output_type": "stream",
     "text": [
      "Model: \"model_10\"\n",
      "_________________________________________________________________\n",
      "Layer (type)                 Output Shape              Param #   \n",
      "=================================================================\n",
      "input_15 (InputLayer)        [(None, None, 24, 2)]     0         \n",
      "_________________________________________________________________\n",
      "time_distributed_1 (TimeDist (None, None, 16)          1216      \n",
      "_________________________________________________________________\n",
      "lstm_15 (LSTM)               (None, 32)                6272      \n",
      "_________________________________________________________________\n",
      "dense_14 (Dense)             (None, 1)                 33        \n",
      "=================================================================\n",
      "Total params: 7,521\n",
      "Trainable params: 7,521\n",
      "Non-trainable params: 0\n",
      "_________________________________________________________________\n"
     ]
    }
   ],
   "source": [
    "md.summary()"
   ]
  },
  {
   "cell_type": "code",
   "execution_count": null,
   "metadata": {},
   "outputs": [],
   "source": [
    "(batch, tidsekvens, timmar-24, features)"
   ]
  },
  {
   "cell_type": "code",
   "execution_count": null,
   "metadata": {},
   "outputs": [],
   "source": [
    "# pat 1, 400 dagar information, 3 features\n",
    "# pat 2, 200 dagar, 3 features\n",
    "# pat 3, 650 dagar\n",
    "\n",
    "#400+200+650..."
   ]
  },
  {
   "cell_type": "code",
   "execution_count": 54,
   "metadata": {},
   "outputs": [],
   "source": [
    "dataset = np.random.randn(1000,3)"
   ]
  },
  {
   "cell_type": "code",
   "execution_count": 62,
   "metadata": {},
   "outputs": [],
   "source": [
    "X = dataset[:,0:2]\n",
    "y = dataset[:,2].reshape(-1,1)"
   ]
  },
  {
   "cell_type": "code",
   "execution_count": 63,
   "metadata": {},
   "outputs": [
    {
     "data": {
      "text/plain": [
       "array([[ 1.23374711,  0.87039289],\n",
       "       [ 0.34624638,  2.57564436],\n",
       "       [-1.16498725, -0.33417746],\n",
       "       ...,\n",
       "       [ 0.0047085 ,  0.9532612 ],\n",
       "       [-0.65083627,  0.78013396],\n",
       "       [ 1.43733262, -0.30399414]])"
      ]
     },
     "execution_count": 63,
     "metadata": {},
     "output_type": "execute_result"
    }
   ],
   "source": [
    "X"
   ]
  },
  {
   "cell_type": "code",
   "execution_count": 65,
   "metadata": {},
   "outputs": [
    {
     "data": {
      "text/plain": [
       "(1000, 1)"
      ]
     },
     "execution_count": 65,
     "metadata": {},
     "output_type": "execute_result"
    }
   ],
   "source": [
    "y.shape"
   ]
  },
  {
   "cell_type": "code",
   "execution_count": null,
   "metadata": {},
   "outputs": [],
   "source": [
    "data_index = t0, t1, t2, t3, t4, t5, t6, t7, t8, t9\n",
    "\n",
    "X      = data[0:2], data[1:3], data[2:4], data[3:5]\n",
    "y      = data[2],   data[3],   data[4],   data[5]"
   ]
  },
  {
   "cell_type": "code",
   "execution_count": 21,
   "metadata": {},
   "outputs": [],
   "source": [
    "import numpy as np"
   ]
  },
  {
   "cell_type": "code",
   "execution_count": 27,
   "metadata": {},
   "outputs": [
    {
     "data": {
      "text/plain": [
       "array([[[ 0.3547007 ,  0.62427427],\n",
       "        [ 0.69103136,  0.41928665],\n",
       "        [-0.28613059, -0.70808274],\n",
       "        [ 1.97177952, -0.02038301],\n",
       "        [ 1.13053887, -0.17912626],\n",
       "        [-0.40873936, -0.36435522],\n",
       "        [ 0.27591632,  0.03234693],\n",
       "        [-0.19099702,  0.90567913],\n",
       "        [-1.26947119,  0.06821572],\n",
       "        [-0.23658166, -2.0187707 ],\n",
       "        [ 0.42250275,  0.44438823],\n",
       "        [-0.7062238 ,  0.5178107 ],\n",
       "        [-0.13980854, -0.07367048],\n",
       "        [ 0.71754874,  0.35600421],\n",
       "        [ 0.06308128,  1.66665731],\n",
       "        [ 1.06936755, -2.13930001],\n",
       "        [-0.93666464,  1.05791304],\n",
       "        [-0.13240307,  1.3522191 ],\n",
       "        [ 0.28894281, -1.08220162],\n",
       "        [ 1.79913757,  0.10235682],\n",
       "        [ 0.30346258,  1.50621451],\n",
       "        [-0.76321964, -0.02756912],\n",
       "        [ 0.01325052, -1.09533205],\n",
       "        [ 0.81890223,  0.26608928],\n",
       "        [-0.66197012, -0.05732439],\n",
       "        [ 1.07476113,  0.71432641],\n",
       "        [-0.1040984 ,  2.28046856],\n",
       "        [-1.17136933,  0.83704799],\n",
       "        [-0.40356921, -1.70790753],\n",
       "        [-0.31590807, -0.31752222]]])"
      ]
     },
     "execution_count": 27,
     "metadata": {},
     "output_type": "execute_result"
    }
   ],
   "source": [
    "np.random.randn(1,30,2)"
   ]
  },
  {
   "cell_type": "code",
   "execution_count": 30,
   "metadata": {},
   "outputs": [
    {
     "data": {
      "text/plain": [
       "array([[0.00475262],\n",
       "       [0.03330417],\n",
       "       [0.07839676],\n",
       "       [0.01074573],\n",
       "       [0.01772285],\n",
       "       [0.04732184],\n",
       "       [0.02092865],\n",
       "       [0.05183602],\n",
       "       [0.0240394 ],\n",
       "       [0.04857615]], dtype=float32)"
      ]
     },
     "execution_count": 30,
     "metadata": {},
     "output_type": "execute_result"
    }
   ],
   "source": [
    "md.predict(np.random.randn(10,30,2))"
   ]
  },
  {
   "cell_type": "code",
   "execution_count": 31,
   "metadata": {},
   "outputs": [],
   "source": [
    "X = np.random.randn(128,30,2)"
   ]
  },
  {
   "cell_type": "code",
   "execution_count": 32,
   "metadata": {},
   "outputs": [],
   "source": [
    "y = np.random.randn(128,1)"
   ]
  },
  {
   "cell_type": "code",
   "execution_count": 35,
   "metadata": {},
   "outputs": [],
   "source": [
    "md.compile(\"adam\", loss=\"mse\")"
   ]
  },
  {
   "cell_type": "code",
   "execution_count": 37,
   "metadata": {},
   "outputs": [
    {
     "name": "stdout",
     "output_type": "stream",
     "text": [
      "32/32 [==============================] - 1s 6ms/step - loss: 0.9151\n"
     ]
    },
    {
     "data": {
      "text/plain": [
       "<tensorflow.python.keras.callbacks.History at 0x7f9301cc98b0>"
      ]
     },
     "execution_count": 37,
     "metadata": {},
     "output_type": "execute_result"
    }
   ],
   "source": [
    "md.fit(X,y,batch_size=4)"
   ]
  },
  {
   "cell_type": "code",
   "execution_count": null,
   "metadata": {},
   "outputs": [],
   "source": []
  }
 ],
 "metadata": {
  "kernelspec": {
   "display_name": "Python 3 (ipykernel)",
   "language": "python",
   "name": "python3"
  },
  "language_info": {
   "codemirror_mode": {
    "name": "ipython",
    "version": 3
   },
   "file_extension": ".py",
   "mimetype": "text/x-python",
   "name": "python",
   "nbconvert_exporter": "python",
   "pygments_lexer": "ipython3",
   "version": "3.9.7"
  }
 },
 "nbformat": 4,
 "nbformat_minor": 4
}
